{
 "cells": [
  {
   "cell_type": "markdown",
   "metadata": {
    "id": "2LDjNwV-L07C"
   },
   "source": [
    "# Аналитика данных с помощью `pandas` и `matplotlib`"
   ]
  },
  {
   "cell_type": "markdown",
   "source": [
    "В этом задании вам предлагается выполнить анализ данных криптовалют с помощью библиотек pandas и matplotlib.\n",
    "Задание выглядит как лабораторная работа, в которой вам предстоит заполнить недостающие клетки и ответить на ряд вопросов.\n",
    " - [Официальная документация pandas](https://pandas.pydata.org/)\n",
    " - [Официальная документация matplotlib](https://matplotlib.org/index.html)"
   ],
   "metadata": {
    "id": "yahCEf27L8Xz"
   }
  },
  {
   "cell_type": "markdown",
   "source": [
    "> **Напоминание**\n",
    ">\n",
    ">Минимальные баллы для получения зачёта по этой работе - **1 балл**. Если вы не набираете тут 1 балл, то по всему курсу вы получаете неуд (см. слайды с вводной презентации)."
   ],
   "metadata": {
    "id": "nER0dTZGMCPM"
   }
  },
  {
   "cell_type": "markdown",
   "metadata": {
    "id": "dWNu1zPiL07Q"
   },
   "source": [
    "## 1. Данные (2 балла)"
   ]
  },
  {
   "cell_type": "markdown",
   "source": [
    "Скачиваем данные для работы:"
   ],
   "metadata": {
    "id": "Nh7axXM5MrlX"
   }
  },
  {
   "cell_type": "code",
   "execution_count": 135,
   "outputs": [],
   "source": [],
   "metadata": {
    "collapsed": false
   }
  },
  {
   "cell_type": "markdown",
   "metadata": {
    "id": "rxz0pXGIL07S"
   },
   "source": [
    "Начнем с необходимых приготовлений."
   ]
  },
  {
   "cell_type": "code",
   "execution_count": 136,
   "metadata": {
    "id": "-G3lHlpmL07T"
   },
   "outputs": [
    {
     "name": "stdout",
     "output_type": "stream",
     "text": [
      "Requirement already satisfied: seaborn in /Users/daniil_goryunov/DataSpell_1/venv/lib/python3.10/site-packages (0.12.1)\r\n",
      "Requirement already satisfied: numpy>=1.17 in /Users/daniil_goryunov/DataSpell_1/venv/lib/python3.10/site-packages (from seaborn) (1.23.5)\r\n",
      "Requirement already satisfied: pandas>=0.25 in /Users/daniil_goryunov/DataSpell_1/venv/lib/python3.10/site-packages (from seaborn) (1.5.2)\r\n",
      "Requirement already satisfied: matplotlib!=3.6.1,>=3.1 in /Users/daniil_goryunov/DataSpell_1/venv/lib/python3.10/site-packages (from seaborn) (3.6.2)\r\n",
      "Requirement already satisfied: pyparsing>=2.2.1 in /Users/daniil_goryunov/DataSpell_1/venv/lib/python3.10/site-packages (from matplotlib!=3.6.1,>=3.1->seaborn) (3.0.9)\r\n",
      "Requirement already satisfied: contourpy>=1.0.1 in /Users/daniil_goryunov/DataSpell_1/venv/lib/python3.10/site-packages (from matplotlib!=3.6.1,>=3.1->seaborn) (1.0.5)\r\n",
      "Requirement already satisfied: pillow>=6.2.0 in /Users/daniil_goryunov/DataSpell_1/venv/lib/python3.10/site-packages (from matplotlib!=3.6.1,>=3.1->seaborn) (9.2.0)\r\n",
      "Requirement already satisfied: python-dateutil>=2.7 in /Users/daniil_goryunov/DataSpell_1/venv/lib/python3.10/site-packages (from matplotlib!=3.6.1,>=3.1->seaborn) (2.8.2)\r\n",
      "Requirement already satisfied: cycler>=0.10 in /Users/daniil_goryunov/DataSpell_1/venv/lib/python3.10/site-packages (from matplotlib!=3.6.1,>=3.1->seaborn) (0.11.0)\r\n",
      "Requirement already satisfied: fonttools>=4.22.0 in /Users/daniil_goryunov/DataSpell_1/venv/lib/python3.10/site-packages (from matplotlib!=3.6.1,>=3.1->seaborn) (4.37.4)\r\n",
      "Requirement already satisfied: kiwisolver>=1.0.1 in /Users/daniil_goryunov/DataSpell_1/venv/lib/python3.10/site-packages (from matplotlib!=3.6.1,>=3.1->seaborn) (1.4.4)\r\n",
      "Requirement already satisfied: packaging>=20.0 in /Users/daniil_goryunov/DataSpell_1/venv/lib/python3.10/site-packages (from matplotlib!=3.6.1,>=3.1->seaborn) (21.3)\r\n",
      "Requirement already satisfied: pytz>=2020.1 in /Users/daniil_goryunov/DataSpell_1/venv/lib/python3.10/site-packages (from pandas>=0.25->seaborn) (2022.4)\r\n",
      "Requirement already satisfied: six>=1.5 in /Users/daniil_goryunov/DataSpell_1/venv/lib/python3.10/site-packages (from python-dateutil>=2.7->matplotlib!=3.6.1,>=3.1->seaborn) (1.16.0)\r\n",
      "\u001B[33mWARNING: You are using pip version 21.3.1; however, version 22.3.1 is available.\r\n",
      "You should consider upgrading via the '/Users/daniil_goryunov/DataSpell_1/venv/bin/python -m pip install --upgrade pip' command.\u001B[0m\r\n"
     ]
    }
   ],
   "source": [
    "import numpy as np\n",
    "import pandas as pd\n",
    "import matplotlib as mpl  \n",
    "import matplotlib.pyplot as plt\n",
    "import ipywidgets  # Библиотека для интерактивных контролов в jupyter notebook'е\n",
    "!pip install seaborn\n",
    "import seaborn as sns\n",
    "\n",
    "%matplotlib inline"
   ]
  },
  {
   "cell_type": "markdown",
   "metadata": {
    "id": "syVncWO5L07X"
   },
   "source": [
    "#### Загрузите заранее подготовленный датасет из файла *\"coins.csv\"*. Создайте объект типа `pandas.DataFrame` с именем `coins` и в качестве индекса выберите колонку с датой."
   ]
  },
  {
   "cell_type": "code",
   "execution_count": 137,
   "metadata": {
    "id": "3a-dnCG0L07Z"
   },
   "outputs": [],
   "source": [
    "coins = pd.read_csv(\"coins.csv\")"
   ]
  },
  {
   "cell_type": "markdown",
   "metadata": {
    "id": "XYauvggmL07a"
   },
   "source": [
    "Посмотрим что получилось"
   ]
  },
  {
   "cell_type": "code",
   "execution_count": 138,
   "metadata": {
    "id": "l4uGAbw2L07e",
    "outputId": "584542e8-5232-4192-d706-9bdace902161"
   },
   "outputs": [
    {
     "data": {
      "text/plain": "         date   price  txCount      txVolume  activeAddresses symbol  \\\n0  2013-04-28  135.30  41702.0  6.879868e+07         117984.0    BTC   \n1  2013-04-28    4.30   9174.0  4.431952e+07          17216.0    LTC   \n2  2013-04-29  134.44  51602.0  1.138128e+08          86925.0    BTC   \n3  2013-04-29    4.37   9275.0  3.647810e+07          18395.0    LTC   \n\n       name    open    high     low   close  volume        market  \n0   Bitcoin  135.30  135.98  132.10  134.21     0.0  1.500520e+09  \n1  Litecoin    4.30    4.40    4.18    4.35     0.0  7.377340e+07  \n2   Bitcoin  134.44  147.49  134.00  144.54     0.0  1.491160e+09  \n3  Litecoin    4.37    4.57    4.23    4.38     0.0  7.495270e+07  ",
      "text/html": "<div>\n<style scoped>\n    .dataframe tbody tr th:only-of-type {\n        vertical-align: middle;\n    }\n\n    .dataframe tbody tr th {\n        vertical-align: top;\n    }\n\n    .dataframe thead th {\n        text-align: right;\n    }\n</style>\n<table border=\"1\" class=\"dataframe\">\n  <thead>\n    <tr style=\"text-align: right;\">\n      <th></th>\n      <th>date</th>\n      <th>price</th>\n      <th>txCount</th>\n      <th>txVolume</th>\n      <th>activeAddresses</th>\n      <th>symbol</th>\n      <th>name</th>\n      <th>open</th>\n      <th>high</th>\n      <th>low</th>\n      <th>close</th>\n      <th>volume</th>\n      <th>market</th>\n    </tr>\n  </thead>\n  <tbody>\n    <tr>\n      <th>0</th>\n      <td>2013-04-28</td>\n      <td>135.30</td>\n      <td>41702.0</td>\n      <td>6.879868e+07</td>\n      <td>117984.0</td>\n      <td>BTC</td>\n      <td>Bitcoin</td>\n      <td>135.30</td>\n      <td>135.98</td>\n      <td>132.10</td>\n      <td>134.21</td>\n      <td>0.0</td>\n      <td>1.500520e+09</td>\n    </tr>\n    <tr>\n      <th>1</th>\n      <td>2013-04-28</td>\n      <td>4.30</td>\n      <td>9174.0</td>\n      <td>4.431952e+07</td>\n      <td>17216.0</td>\n      <td>LTC</td>\n      <td>Litecoin</td>\n      <td>4.30</td>\n      <td>4.40</td>\n      <td>4.18</td>\n      <td>4.35</td>\n      <td>0.0</td>\n      <td>7.377340e+07</td>\n    </tr>\n    <tr>\n      <th>2</th>\n      <td>2013-04-29</td>\n      <td>134.44</td>\n      <td>51602.0</td>\n      <td>1.138128e+08</td>\n      <td>86925.0</td>\n      <td>BTC</td>\n      <td>Bitcoin</td>\n      <td>134.44</td>\n      <td>147.49</td>\n      <td>134.00</td>\n      <td>144.54</td>\n      <td>0.0</td>\n      <td>1.491160e+09</td>\n    </tr>\n    <tr>\n      <th>3</th>\n      <td>2013-04-29</td>\n      <td>4.37</td>\n      <td>9275.0</td>\n      <td>3.647810e+07</td>\n      <td>18395.0</td>\n      <td>LTC</td>\n      <td>Litecoin</td>\n      <td>4.37</td>\n      <td>4.57</td>\n      <td>4.23</td>\n      <td>4.38</td>\n      <td>0.0</td>\n      <td>7.495270e+07</td>\n    </tr>\n  </tbody>\n</table>\n</div>"
     },
     "execution_count": 138,
     "metadata": {},
     "output_type": "execute_result"
    }
   ],
   "source": [
    "coins.head(4)"
   ]
  },
  {
   "cell_type": "code",
   "execution_count": 139,
   "outputs": [
    {
     "data": {
      "text/plain": "              price       txCount      txVolume  activeAddresses  \\\ncount  37261.000000  3.606800e+04  3.575800e+04     3.606800e+04   \nmean     127.395042  1.960144e+04  4.745076e+53     3.295039e+04   \nstd      859.109058  7.702995e+04  8.972837e+55     1.143196e+05   \nmin        0.000002  0.000000e+00  0.000000e+00     0.000000e+00   \n25%        0.059871  3.410000e+02  2.751161e+05     2.920000e+02   \n50%        1.020000  1.214500e+03  2.007019e+06     1.388000e+03   \n75%        8.710000  6.247000e+03  1.425408e+07     1.173400e+04   \nmax    19475.800000  1.349890e+06  1.696744e+58     1.283929e+06   \n\n               open          high           low         close        volume  \\\ncount  37588.000000  37588.000000  37588.000000  37588.000000  3.758800e+04   \nmean     125.652051    131.127449    119.791636    125.771519  1.302249e+08   \nstd      855.436562    890.527305    813.697042    855.954704  8.042239e+08   \nmin        0.000002      0.000003      0.000002      0.000002  0.000000e+00   \n25%        0.053032      0.057809      0.049289      0.053147  8.794400e+04   \n50%        1.000000      1.050000      1.000000      1.000000  1.949815e+06   \n75%        8.772500      9.480000      8.150000      8.810000  1.770732e+07   \nmax    19475.800000  20089.000000  18974.100000  19497.400000  2.384090e+10   \n\n             market  \ncount  3.758800e+04  \nmean   2.720948e+09  \nstd    1.534546e+10  \nmin    0.000000e+00  \n25%    1.356655e+07  \n50%    1.323890e+08  \n75%    5.156410e+08  \nmax    3.261410e+11  ",
      "text/html": "<div>\n<style scoped>\n    .dataframe tbody tr th:only-of-type {\n        vertical-align: middle;\n    }\n\n    .dataframe tbody tr th {\n        vertical-align: top;\n    }\n\n    .dataframe thead th {\n        text-align: right;\n    }\n</style>\n<table border=\"1\" class=\"dataframe\">\n  <thead>\n    <tr style=\"text-align: right;\">\n      <th></th>\n      <th>price</th>\n      <th>txCount</th>\n      <th>txVolume</th>\n      <th>activeAddresses</th>\n      <th>open</th>\n      <th>high</th>\n      <th>low</th>\n      <th>close</th>\n      <th>volume</th>\n      <th>market</th>\n    </tr>\n  </thead>\n  <tbody>\n    <tr>\n      <th>count</th>\n      <td>37261.000000</td>\n      <td>3.606800e+04</td>\n      <td>3.575800e+04</td>\n      <td>3.606800e+04</td>\n      <td>37588.000000</td>\n      <td>37588.000000</td>\n      <td>37588.000000</td>\n      <td>37588.000000</td>\n      <td>3.758800e+04</td>\n      <td>3.758800e+04</td>\n    </tr>\n    <tr>\n      <th>mean</th>\n      <td>127.395042</td>\n      <td>1.960144e+04</td>\n      <td>4.745076e+53</td>\n      <td>3.295039e+04</td>\n      <td>125.652051</td>\n      <td>131.127449</td>\n      <td>119.791636</td>\n      <td>125.771519</td>\n      <td>1.302249e+08</td>\n      <td>2.720948e+09</td>\n    </tr>\n    <tr>\n      <th>std</th>\n      <td>859.109058</td>\n      <td>7.702995e+04</td>\n      <td>8.972837e+55</td>\n      <td>1.143196e+05</td>\n      <td>855.436562</td>\n      <td>890.527305</td>\n      <td>813.697042</td>\n      <td>855.954704</td>\n      <td>8.042239e+08</td>\n      <td>1.534546e+10</td>\n    </tr>\n    <tr>\n      <th>min</th>\n      <td>0.000002</td>\n      <td>0.000000e+00</td>\n      <td>0.000000e+00</td>\n      <td>0.000000e+00</td>\n      <td>0.000002</td>\n      <td>0.000003</td>\n      <td>0.000002</td>\n      <td>0.000002</td>\n      <td>0.000000e+00</td>\n      <td>0.000000e+00</td>\n    </tr>\n    <tr>\n      <th>25%</th>\n      <td>0.059871</td>\n      <td>3.410000e+02</td>\n      <td>2.751161e+05</td>\n      <td>2.920000e+02</td>\n      <td>0.053032</td>\n      <td>0.057809</td>\n      <td>0.049289</td>\n      <td>0.053147</td>\n      <td>8.794400e+04</td>\n      <td>1.356655e+07</td>\n    </tr>\n    <tr>\n      <th>50%</th>\n      <td>1.020000</td>\n      <td>1.214500e+03</td>\n      <td>2.007019e+06</td>\n      <td>1.388000e+03</td>\n      <td>1.000000</td>\n      <td>1.050000</td>\n      <td>1.000000</td>\n      <td>1.000000</td>\n      <td>1.949815e+06</td>\n      <td>1.323890e+08</td>\n    </tr>\n    <tr>\n      <th>75%</th>\n      <td>8.710000</td>\n      <td>6.247000e+03</td>\n      <td>1.425408e+07</td>\n      <td>1.173400e+04</td>\n      <td>8.772500</td>\n      <td>9.480000</td>\n      <td>8.150000</td>\n      <td>8.810000</td>\n      <td>1.770732e+07</td>\n      <td>5.156410e+08</td>\n    </tr>\n    <tr>\n      <th>max</th>\n      <td>19475.800000</td>\n      <td>1.349890e+06</td>\n      <td>1.696744e+58</td>\n      <td>1.283929e+06</td>\n      <td>19475.800000</td>\n      <td>20089.000000</td>\n      <td>18974.100000</td>\n      <td>19497.400000</td>\n      <td>2.384090e+10</td>\n      <td>3.261410e+11</td>\n    </tr>\n  </tbody>\n</table>\n</div>"
     },
     "execution_count": 139,
     "metadata": {},
     "output_type": "execute_result"
    }
   ],
   "source": [
    "coins.describe()"
   ],
   "metadata": {
    "collapsed": false
   }
  },
  {
   "cell_type": "markdown",
   "metadata": {
    "id": "KVwDhn2bL07i"
   },
   "source": [
    "Поясним значения хранящиеся в колонках\n",
    " - date - дата измерений\n",
    " - name - полное название монеты\n",
    " - symbol - сокращенное название монеты\n",
    " - price - средняя цена монеты за торговый день в USD\n",
    " - txCount - количество транзакций в сети данной монеты\n",
    " - txVolume - объем монет переведенных между адресами в сети данной монеты\n",
    " - activeAddresses - количество адресов совершавших а данный день транзации в сети данной монеты\n",
    " - open - цена монеты в начале торгов данного дня\n",
    " - close - цена монеты в конце торгов данного дня\n",
    " - high - самая высокая цена данной монеты в течение данного торгового дня\n",
    " - low - самая низкая цена данной монеты в течение данного торгового дня\n",
    " - volume - объем торгов данной монетой на биржах в данный день\n",
    " - market - капитализация данной монеты в данный день"
   ]
  },
  {
   "cell_type": "markdown",
   "source": [
    "Изучим полученные данные. Ответьте на следующие вопросы (вставляйте клетки с кодом и тектом ниже):"
   ],
   "metadata": {
    "id": "_q8b6IndNKmV"
   }
  },
  {
   "cell_type": "markdown",
   "metadata": {
    "id": "7ud0R7PcL07k"
   },
   "source": [
    "### 1. Сколько всего различных монет представлено в датасете? (0.4 балла)"
   ]
  },
  {
   "cell_type": "code",
   "execution_count": 140,
   "metadata": {
    "id": "oN2d3V71L07m"
   },
   "outputs": [
    {
     "data": {
      "text/plain": "'Всего различных монет в датасете --> 70'"
     },
     "execution_count": 140,
     "metadata": {},
     "output_type": "execute_result"
    }
   ],
   "source": [
    "f'Всего различных монет в датасете --> {len(set(coins.name))}'"
   ]
  },
  {
   "cell_type": "markdown",
   "metadata": {
    "id": "TDffn2rLL07n"
   },
   "source": [
    "### 2. За какой период данные мы имеем? (0.4 балла)"
   ]
  },
  {
   "cell_type": "code",
   "execution_count": 141,
   "metadata": {
    "id": "7Ucmnjv1L07p"
   },
   "outputs": [
    {
     "data": {
      "text/plain": "'Данные представлены с 2013-04-28 по 2018-06-06'"
     },
     "execution_count": 141,
     "metadata": {},
     "output_type": "execute_result"
    }
   ],
   "source": [
    "f'Данные представлены с {min(coins.date)} по {max(coins.date)}'"
   ]
  },
  {
   "cell_type": "markdown",
   "metadata": {
    "id": "XFHJsy_5L07p"
   },
   "source": [
    "### 3. Есть ли пропуски в данных? Какой природы эти пропуски, чем они скорее всего вызваны? (0.5 балла)"
   ]
  },
  {
   "cell_type": "code",
   "execution_count": 142,
   "metadata": {
    "id": "D-nOmmFjL07r"
   },
   "outputs": [
    {
     "data": {
      "text/plain": "date                  0\nprice               327\ntxCount            1520\ntxVolume           1830\nactiveAddresses    1520\nsymbol                0\nname                  0\nopen                  0\nhigh                  0\nlow                   0\nclose                 0\nvolume                0\nmarket                0\ndtype: int64"
     },
     "execution_count": 142,
     "metadata": {},
     "output_type": "execute_result"
    }
   ],
   "source": [
    "coins.isna().sum()"
   ]
  },
  {
   "cell_type": "markdown",
   "source": [
    "Видно, что пропуски в колонках - price, txCount, txVolume, activeAddresses. Пропуски - значение nan"
   ],
   "metadata": {
    "collapsed": false
   }
  },
  {
   "cell_type": "markdown",
   "metadata": {
    "id": "Da-aXu_hL07s"
   },
   "source": [
    "### 4. У какой монеты и когда была самая высокая цена? (0.2 балла)"
   ]
  },
  {
   "cell_type": "code",
   "execution_count": 143,
   "metadata": {
    "id": "-D50115vL07t"
   },
   "outputs": [
    {
     "name": "stdout",
     "output_type": "stream",
     "text": [
      "Наибольшая цена была у Bitcoin -- 2017-12-17\n"
     ]
    }
   ],
   "source": [
    "name = coins[coins['price'] == coins['price'].max()]['name'].values[0]\n",
    "date = coins[coins['price'] == coins['price'].max()]['date'].values[0]\n",
    "print(f'Наибольшая цена была у {name} -- {date}')"
   ]
  },
  {
   "cell_type": "markdown",
   "metadata": {
    "id": "3F9UdmukL07u"
   },
   "source": [
    "### 5. У какой монеты самая высокая и самая низкая суммарная капитализация? Постройте круговую диаграмму с долями. (0.5 балла)"
   ]
  },
  {
   "cell_type": "code",
   "execution_count": 144,
   "outputs": [
    {
     "name": "stdout",
     "output_type": "stream",
     "text": [
      "Максимальная суммарная капитализация у KingN Coin и составляет -- 10608251.0\n",
      "Минимальная суммарная капитализация у Bitcoin и составляет -- 57439466431000.0\n"
     ]
    }
   ],
   "source": [
    "df = pd.DataFrame(coins)\n",
    "data = {}\n",
    "for i in set(coins['name']):\n",
    "    data[i] = df.loc[df['name'] == i, 'market'].sum()\n",
    "min_c = [i for i in data if data[i] == min(data.values())][0]\n",
    "max_c = [i for i in data if data[i] == max(data.values())][0]\n",
    "print(f'Максимальная суммарная капитализация у {min_c} и составляет -- {min(data.values())}')\n",
    "print(f'Минимальная суммарная капитализация у {max_c} и составляет -- {max(data.values())}')"
   ],
   "metadata": {
    "collapsed": false
   }
  },
  {
   "cell_type": "code",
   "execution_count": 145,
   "outputs": [
    {
     "data": {
      "text/plain": "<Figure size 640x480 with 1 Axes>",
      "image/png": "[encoded data removed]"
     },
     "metadata": {},
     "output_type": "display_data"
    }
   ],
   "source": [
    "plt.pie(data.values(), labels = data.keys())\n",
    "plt.show()"
   ],
   "metadata": {
    "collapsed": false
   }
  },
  {
   "cell_type": "markdown",
   "metadata": {
    "id": "Q2uOSfUsL07w"
   },
   "source": [
    "## 2. Визуализация (1 балл)"
   ]
  },
  {
   "cell_type": "markdown",
   "metadata": {
    "id": "uwjJ-L7tL07w"
   },
   "source": [
    "Самая интересная часть работы аналитика состоит во внимательном вглядывании в правильно выбранные и построенные графики."
   ]
  },
  {
   "cell_type": "markdown",
   "source": [
    "**Реализуйте функцию для визуализации цен выбранной валюты за выбранный диапазон дат.**"
   ],
   "metadata": {
    "id": "mtUf5gGiNa6z"
   }
  },
  {
   "cell_type": "markdown",
   "metadata": {
    "id": "9qevVDaEL07x"
   },
   "source": [
    "На графике должны быть видны цены начала и конца продаж. А так же минимальная и максимальная цена за этот день.\n",
    "Подпишите график и оси координат. Добавьте сетку. Увеличьте размер изображения.\n",
    "Можете попробовать использовать `matplotlib.finance.candlestick_ohlc` (`mpl_finance.candlestick_ohlc`), но можно и без него."
   ]
  },
  {
   "cell_type": "code",
   "execution_count": 146,
   "outputs": [
    {
     "name": "stdout",
     "output_type": "stream",
     "text": [
      "Requirement already satisfied: plotly in /Users/daniil_goryunov/DataSpell_1/venv/lib/python3.10/site-packages (5.11.0)\r\n",
      "Requirement already satisfied: tenacity>=6.2.0 in /Users/daniil_goryunov/DataSpell_1/venv/lib/python3.10/site-packages (from plotly) (8.1.0)\r\n",
      "\u001B[33mWARNING: You are using pip version 21.3.1; however, version 22.3.1 is available.\r\n",
      "You should consider upgrading via the '/Users/daniil_goryunov/DataSpell_1/venv/bin/python -m pip install --upgrade pip' command.\u001B[0m\r\n"
     ]
    }
   ],
   "source": [
    "!pip install plotly\n",
    "import plotly.graph_objects as go\n"
   ],
   "metadata": {
    "collapsed": false
   }
  },
  {
   "cell_type": "code",
   "execution_count": 147,
   "metadata": {
    "scrolled": false,
    "id": "mR_RvLetL07y"
   },
   "outputs": [],
   "source": [
    "def plot_fancy_price_action(coins, symbol, start_date, end_date):\n",
    "    coins = coins[(coins.date >= start_date) & (coins.date <= end_date) & (coins.symbol == symbol)]\n",
    "\n",
    "    fig = go.Figure(\n",
    "        data=go.Ohlc(\n",
    "            x=coins.date,\n",
    "            open=coins[\"open\"],\n",
    "            high=coins[\"high\"],\n",
    "            low=coins[\"low\"],\n",
    "            close=coins[\"close\"],\n",
    "        )\n",
    "    )\n",
    "    fig.update_layout(\n",
    "        autosize=False,\n",
    "        width=800,\n",
    "        height=800,)\n",
    "    fig.show()"
   ]
  },
  {
   "cell_type": "markdown",
   "metadata": {
    "id": "C1F_4oSmL07z"
   },
   "source": [
    "Посмотрим, что получилось:"
   ]
  },
  {
   "cell_type": "code",
   "execution_count": 148,
   "metadata": {
    "id": "VIF6IvysL070"
   },
   "outputs": [
    {
     "data": {
      "application/vnd.plotly.v1+json": {
       "data": [
        {
         "close": [
          48.56,
          58.61,
          3.16,
          3.38E-4,
          23.3,
          54.15,
          48.0,
          78.91,
          47.63,
          74.51,
          80.06,
          153.59,
          125.65,
          101.43,
          101.09,
          88.08,
          91.28,
          87.86,
          73.6,
          91.12,
          102.19,
          87.19,
          79.39,
          80.29,
          89.72,
          85.31,
          187.64,
          204.8,
          207.61,
          168.65,
          179.7,
          161.68,
          141.6,
          125.5,
          162.44,
          128.79,
          129.44,
          107.21,
          137.06,
          158.9,
          217.09,
          180.86,
          207.78,
          204.8,
          232.57,
          198.06,
          198.97,
          160.36,
          145.65,
          157.69,
          148.68,
          156.38,
          140.84,
          152.89,
          193.19,
          168.8,
          159.41,
          150.94,
          151.67,
          163.14,
          156.0,
          141.81,
          128.91,
          132.89,
          134.38,
          123.27,
          121.5,
          127.73,
          121.04,
          120.4,
          138.87,
          125.58,
          126.82,
          126.31,
          122.42,
          113.57,
          107.69,
          109.53,
          114.72,
          106.29,
          99.9,
          104.29,
          104.35,
          93.72,
          94.14,
          93.88,
          98.08,
          99.19,
          100.06,
          100.48,
          109.04,
          104.03,
          103.19,
          95.38,
          87.37,
          88.19,
          92.7,
          81.15,
          69.65,
          86.72,
          86.4,
          104.61,
          99.58,
          88.1,
          91.05,
          80.65,
          80.07,
          86.72,
          78.36,
          80.98,
          77.73,
          83.1,
          75.26,
          74.67,
          64.74,
          74.49,
          70.69,
          67.77,
          67.02,
          64.22,
          67.57,
          61.8,
          56.42,
          57.83,
          63.72,
          84.5,
          80.53,
          78.55,
          84.14,
          78.18,
          79.03,
          73.69,
          71.26,
          63.44,
          61.57,
          62.3,
          66.34,
          59.7,
          57.15,
          56.56,
          54.85,
          53.62,
          51.47,
          52.03,
          48.13,
          50.81,
          48.08,
          50.99,
          54.36,
          54.38,
          63.6,
          54.05,
          57.22,
          70.66,
          74.41,
          69.49,
          71.62,
          65.93,
          72.08,
          78.91,
          83.19,
          99.41,
          104.47,
          112.38,
          109.62,
          102.97,
          89.79,
          92.48,
          89.2,
          90.64,
          89.84,
          91.54,
          102.97,
          102.41,
          90.88,
          94.97,
          94.27,
          99.78,
          101.71,
          109.53,
          153.86,
          135.88,
          157.57,
          174.26,
          156.29,
          156.03,
          182.0,
          224.0,
          220.2,
          210.6,
          232.96,
          269.83,
          276.11,
          279.74,
          251.13,
          268.26,
          374.96,
          338.76,
          327.43,
          327.68,
          361.56,
          350.71,
          328.36,
          307.12,
          354.17,
          338.29,
          337.33,
          343.12,
          377.54,
          376.05,
          368.46,
          380.11,
          377.78,
          397.72,
          419.86,
          465.59,
          466.7,
          396.61,
          419.32,
          433.01,
          409.33,
          393.63,
          329.19,
          307.24,
          347.9,
          414.68,
          429.95,
          380.41,
          361.91,
          347.34,
          367.39,
          389.16,
          372.4,
          384.55,
          401.43,
          402.69,
          358.97,
          404.91,
          353.22,
          331.96,
          351.01,
          311.38,
          244.83,
          273.46,
          268.49,
          278.58,
          287.27,
          278.96,
          272.0,
          272.81,
          257.47,
          309.72,
          298.29,
          286.6,
          303.49,
          273.46,
          262.99,
          270.69,
          249.05,
          231.61,
          227.06,
          222.94,
          232.35,
          242.32,
          248.3,
          214.84,
          221.37,
          210.25,
          226.2,
          214.69,
          203.08,
          192.74,
          173.34,
          168.9,
          176.11,
          160.77,
          175.6,
          159.46,
          152.46,
          133.65,
          127.65,
          114.48,
          105.33,
          104.83,
          107.93,
          108.33,
          107.55,
          121.98,
          220.75,
          210.88,
          196.41,
          181.51,
          153.57,
          143.25,
          123.92,
          123.69,
          143.37,
          128.28,
          122.14,
          125.02,
          102.8,
          94.99,
          90.37,
          94.63,
          102.03,
          92.14,
          89.28,
          98.94,
          101.79,
          102.32,
          105.64,
          113.97,
          101.03,
          102.64,
          109.11,
          114.83,
          123.04,
          118.51,
          131.78,
          122.44,
          127.44,
          108.81,
          119.7,
          100.39,
          102.23,
          109.31,
          102.16,
          103.19,
          118.88,
          136.43,
          124.44,
          121.25,
          115.11,
          103.26,
          101.63,
          102.08,
          96.66,
          93.18,
          87.52,
          96.2,
          92.21,
          92.62,
          105.24,
          96.02,
          92.85,
          89.83,
          89.43,
          87.24,
          79.04,
          72.3,
          81.19,
          77.69,
          100.51,
          92.4,
          80.91,
          82.67,
          81.19,
          84.69,
          90.06,
          102.8,
          92.3,
          83.12,
          87.97,
          88.6
         ],
         "high": [
          253.27,
          259.75,
          84.49,
          112.39,
          329.42,
          252.32,
          106.85,
          143.87,
          85.2,
          214.17,
          120.16,
          355.37,
          182.19,
          425.01,
          112.83,
          109.77,
          101.99,
          137.37,
          104.08,
          92.05,
          538.97,
          195.47,
          282.15,
          368.97,
          104.44,
          217.48,
          298.33,
          268.63,
          345.17,
          469.16,
          191.82,
          191.44,
          213.46,
          159.06,
          219.83,
          156.75,
          199.81,
          174.6,
          203.6,
          175.58,
          288.38,
          251.32,
          215.82,
          217.52,
          234.66,
          247.22,
          224.62,
          200.83,
          165.1,
          157.74,
          179.87,
          159.92,
          159.18,
          152.89,
          197.36,
          207.26,
          188.26,
          171.61,
          162.6,
          169.08,
          166.6,
          160.68,
          155.89,
          153.81,
          149.06,
          149.12,
          134.33,
          146.39,
          139.16,
          124.85,
          153.51,
          149.8,
          129.53,
          136.9,
          135.75,
          126.51,
          122.18,
          130.99,
          128.29,
          121.17,
          112.45,
          133.24,
          111.36,
          105.52,
          103.47,
          96.24,
          104.13,
          126.47,
          101.11,
          103.0,
          112.28,
          108.99,
          108.25,
          104.98,
          95.67,
          98.66,
          95.22,
          91.42,
          84.37,
          87.72,
          101.2,
          104.66,
          115.94,
          102.55,
          107.78,
          91.75,
          85.9,
          86.93,
          88.55,
          86.67,
          87.45,
          84.99,
          85.14,
          76.35,
          79.62,
          76.97,
          75.92,
          74.49,
          73.78,
          68.41,
          75.52,
          68.06,
          66.12,
          63.99,
          64.57,
          84.56,
          141.16,
          88.12,
          89.09,
          85.31,
          91.15,
          82.6,
          73.65,
          73.37,
          65.88,
          64.44,
          67.97,
          68.3,
          67.8,
          60.3,
          59.52,
          55.3,
          58.21,
          55.04,
          54.45,
          52.44,
          53.17,
          59.02,
          57.05,
          58.91,
          63.64,
          64.8,
          62.2,
          74.85,
          83.37,
          79.07,
          76.14,
          75.17,
          72.34,
          80.73,
          86.59,
          111.9,
          105.36,
          113.09,
          124.49,
          114.56,
          102.84,
          97.12,
          100.28,
          98.6,
          97.29,
          95.37,
          109.29,
          114.86,
          110.53,
          109.72,
          98.29,
          105.79,
          109.53,
          109.53,
          158.47,
          160.41,
          158.47,
          180.61,
          191.81,
          168.7,
          190.13,
          226.43,
          243.94,
          238.28,
          232.96,
          299.87,
          292.86,
          299.33,
          309.76,
          279.02,
          404.12,
          407.32,
          374.59,
          336.96,
          385.7,
          374.19,
          374.18,
          325.38,
          376.42,
          358.8,
          356.44,
          357.18,
          393.92,
          395.28,
          397.02,
          395.69,
          389.13,
          406.13,
          483.98,
          478.21,
          506.33,
          474.19,
          454.44,
          456.46,
          450.96,
          432.15,
          396.69,
          348.99,
          417.31,
          423.15,
          508.57,
          429.99,
          398.15,
          365.54,
          382.56,
          413.32,
          402.89,
          406.72,
          428.67,
          414.48,
          406.21,
          404.91,
          435.8,
          360.68,
          363.24,
          362.76,
          315.85,
          274.87,
          309.04,
          310.06,
          295.11,
          302.45,
          283.2,
          286.97,
          278.88,
          310.04,
          316.15,
          314.83,
          304.73,
          303.96,
          290.36,
          305.52,
          275.11,
          265.28,
          248.77,
          242.11,
          242.35,
          260.89,
          263.21,
          250.33,
          228.3,
          228.59,
          245.66,
          239.13,
          226.63,
          208.79,
          206.85,
          195.43,
          181.37,
          192.37,
          175.61,
          176.46,
          161.75,
          162.71,
          137.55,
          133.06,
          120.19,
          106.14,
          112.16,
          112.22,
          116.53,
          124.96,
          222.94,
          225.09,
          212.59,
          198.62,
          184.27,
          157.86,
          147.67,
          133.61,
          146.78,
          152.81,
          131.45,
          130.32,
          125.23,
          112.13,
          94.97,
          101.89,
          103.03,
          105.36,
          96.6,
          99.39,
          103.02,
          110.66,
          114.96,
          113.97,
          120.48,
          111.15,
          112.0,
          117.86,
          124.5,
          127.77,
          139.71,
          139.9,
          131.53,
          128.28,
          120.1,
          121.22,
          109.62,
          110.7,
          113.02,
          106.13,
          118.97,
          142.13,
          137.4,
          135.71,
          125.08,
          118.56,
          109.81,
          109.69,
          105.67,
          98.69,
          94.96,
          98.71,
          97.05,
          95.13,
          110.34,
          111.02,
          100.35,
          97.98,
          99.36,
          107.58,
          87.42,
          79.94,
          81.19,
          82.85,
          101.1,
          99.97,
          95.5,
          82.67,
          87.14,
          94.14,
          93.36,
          106.06,
          108.96,
          97.52,
          89.05,
          94.08
         ],
         "low": [
          33.71,
          47.15,
          3.16,
          3.37E-4,
          11.91,
          15.39,
          11.68,
          28.58,
          28.25,
          42.36,
          57.11,
          70.46,
          34.75,
          69.71,
          72.42,
          81.78,
          65.1,
          76.89,
          64.75,
          68.18,
          70.25,
          27.05,
          16.52,
          73.15,
          71.01,
          76.36,
          135.96,
          91.22,
          53.0,
          110.96,
          92.97,
          104.75,
          120.37,
          112.86,
          108.63,
          119.37,
          92.59,
          93.52,
          84.43,
          114.92,
          152.68,
          177.1,
          181.53,
          191.51,
          204.95,
          198.06,
          122.13,
          154.28,
          145.63,
          137.94,
          147.2,
          135.87,
          133.03,
          134.75,
          147.46,
          165.81,
          156.24,
          141.49,
          144.94,
          143.72,
          144.88,
          124.98,
          127.25,
          125.46,
          121.58,
          110.6,
          103.43,
          119.83,
          112.36,
          114.38,
          116.56,
          119.55,
          120.47,
          115.95,
          113.06,
          102.42,
          101.3,
          89.55,
          105.36,
          100.56,
          96.82,
          96.58,
          99.32,
          81.73,
          90.63,
          76.0,
          83.62,
          92.15,
          81.67,
          83.68,
          98.67,
          97.07,
          55.94,
          90.28,
          87.37,
          83.11,
          83.3,
          71.16,
          66.16,
          59.83,
          81.18,
          82.25,
          93.44,
          85.04,
          82.09,
          77.0,
          73.47,
          74.24,
          77.16,
          78.48,
          76.97,
          74.22,
          74.89,
          70.97,
          62.07,
          64.65,
          65.57,
          61.08,
          65.8,
          63.39,
          61.28,
          58.82,
          55.61,
          54.87,
          57.41,
          63.36,
          75.23,
          67.04,
          75.74,
          74.59,
          74.88,
          69.96,
          60.27,
          61.08,
          60.83,
          57.49,
          59.98,
          57.8,
          57.15,
          54.52,
          51.73,
          49.99,
          50.65,
          46.26,
          46.98,
          45.63,
          46.86,
          44.58,
          51.19,
          50.65,
          51.43,
          53.21,
          54.11,
          57.06,
          69.86,
          67.11,
          65.46,
          62.79,
          65.27,
          72.1,
          77.21,
          82.44,
          93.66,
          98.73,
          108.88,
          97.92,
          89.73,
          86.14,
          86.55,
          86.6,
          86.58,
          85.74,
          89.84,
          96.61,
          89.4,
          81.46,
          89.32,
          93.68,
          95.98,
          100.44,
          107.82,
          130.5,
          130.12,
          139.21,
          140.7,
          150.03,
          155.42,
          174.6,
          198.81,
          200.4,
          197.49,
          233.69,
          265.08,
          262.08,
          244.78,
          223.24,
          268.23,
          255.38,
          327.43,
          278.3,
          324.59,
          346.01,
          305.63,
          274.87,
          309.6,
          316.14,
          327.64,
          325.32,
          335.6,
          352.05,
          353.17,
          356.26,
          365.11,
          364.01,
          367.75,
          415.28,
          425.81,
          372.98,
          378.46,
          418.88,
          382.8,
          383.6,
          265.97,
          226.2,
          296.04,
          344.51,
          413.63,
          347.99,
          330.09,
          314.4,
          329.85,
          370.13,
          319.88,
          365.23,
          382.22,
          376.25,
          332.88,
          334.35,
          326.54,
          251.46,
          317.32,
          293.83,
          220.77,
          196.37,
          258.4,
          267.84,
          261.02,
          265.02,
          253.79,
          261.57,
          242.79,
          255.03,
          285.92,
          259.42,
          278.53,
          254.97,
          255.37,
          260.7,
          248.03,
          210.33,
          212.08,
          213.39,
          218.64,
          231.54,
          234.29,
          213.05,
          209.29,
          196.46,
          206.72,
          212.59,
          191.3,
          179.32,
          168.9,
          164.3,
          154.1,
          155.92,
          151.65,
          151.27,
          147.77,
          119.81,
          114.9,
          114.39,
          103.54,
          84.83,
          100.08,
          101.75,
          101.33,
          100.87,
          121.33,
          186.84,
          196.41,
          157.6,
          153.57,
          129.59,
          117.59,
          116.55,
          123.53,
          126.02,
          116.79,
          118.39,
          99.51,
          89.84,
          81.35,
          90.01,
          93.13,
          88.73,
          88.2,
          86.32,
          88.01,
          96.84,
          102.62,
          105.8,
          100.75,
          99.35,
          98.8,
          109.08,
          114.08,
          117.29,
          112.8,
          122.17,
          121.41,
          108.81,
          104.97,
          100.39,
          99.48,
          98.02,
          101.53,
          97.83,
          103.81,
          117.73,
          121.2,
          117.01,
          107.0,
          98.42,
          92.74,
          93.46,
          96.58,
          84.89,
          65.96,
          83.69,
          87.75,
          83.4,
          85.44,
          91.82,
          87.29,
          88.51,
          87.17,
          83.34,
          77.89,
          65.47,
          67.81,
          70.85,
          76.7,
          87.01,
          78.03,
          74.9,
          75.01,
          80.03,
          83.38,
          90.2,
          91.53,
          80.07,
          79.13,
          85.72
         ],
         "open": [
          48.96,
          49.18,
          58.58,
          3.35,
          34.22,
          38.43,
          38.68,
          47.99,
          46.21,
          48.57,
          74.44,
          71.05,
          182.19,
          125.79,
          102.2,
          96.25,
          91.33,
          81.98,
          88.64,
          79.69,
          91.63,
          101.95,
          84.67,
          83.31,
          80.36,
          88.89,
          135.96,
          187.33,
          204.79,
          206.16,
          169.0,
          180.13,
          149.43,
          133.98,
          129.04,
          156.61,
          128.51,
          116.49,
          106.74,
          136.33,
          157.26,
          221.25,
          181.53,
          210.13,
          205.71,
          232.05,
          198.83,
          199.72,
          158.9,
          145.76,
          158.11,
          148.48,
          156.72,
          141.15,
          153.14,
          193.15,
          169.67,
          159.97,
          150.87,
          151.03,
          162.86,
          156.0,
          142.15,
          128.62,
          132.55,
          134.47,
          122.52,
          121.03,
          128.02,
          121.22,
          120.48,
          138.92,
          125.67,
          126.3,
          126.33,
          122.35,
          113.11,
          107.71,
          108.33,
          114.73,
          106.43,
          100.0,
          104.14,
          104.27,
          93.49,
          94.32,
          94.08,
          98.14,
          99.2,
          100.37,
          101.36,
          108.99,
          104.24,
          103.22,
          95.09,
          87.63,
          87.64,
          91.42,
          81.08,
          70.18,
          87.26,
          86.26,
          106.6,
          99.86,
          88.03,
          90.69,
          80.61,
          80.01,
          86.73,
          78.48,
          80.96,
          77.63,
          83.02,
          75.19,
          75.0,
          65.04,
          74.52,
          70.5,
          67.94,
          67.03,
          64.35,
          67.53,
          61.79,
          56.53,
          57.96,
          63.73,
          84.58,
          80.44,
          78.62,
          84.24,
          78.01,
          79.74,
          73.62,
          71.15,
          63.4,
          61.79,
          61.95,
          66.4,
          59.7,
          57.04,
          56.45,
          54.93,
          53.78,
          51.43,
          51.96,
          48.14,
          50.72,
          48.11,
          51.19,
          54.35,
          54.24,
          63.68,
          54.12,
          57.17,
          70.32,
          75.1,
          69.28,
          71.62,
          66.04,
          72.1,
          78.95,
          83.19,
          99.31,
          104.61,
          112.11,
          109.61,
          102.84,
          89.92,
          92.64,
          90.45,
          90.6,
          89.84,
          91.53,
          102.87,
          102.47,
          92.07,
          94.69,
          94.07,
          99.83,
          101.23,
          109.63,
          152.38,
          133.31,
          159.33,
          174.2,
          156.59,
          157.76,
          181.37,
          224.95,
          219.99,
          207.56,
          233.69,
          269.65,
          275.88,
          278.71,
          250.95,
          268.63,
          376.3,
          342.86,
          331.23,
          330.04,
          359.69,
          351.39,
          324.47,
          309.8,
          355.22,
          335.87,
          338.14,
          343.79,
          378.55,
          376.58,
          366.43,
          373.31,
          377.55,
          401.18,
          419.92,
          469.0,
          458.39,
          398.34,
          418.88,
          438.18,
          408.71,
          395.65,
          327.39,
          312.97,
          344.51,
          415.56,
          429.99,
          382.7,
          361.21,
          347.36,
          375.66,
          387.28,
          372.38,
          383.28,
          401.35,
          405.75,
          362.4,
          404.99,
          352.07,
          332.7,
          350.97,
          308.0,
          245.5,
          274.41,
          267.84,
          279.02,
          287.3,
          278.61,
          273.33,
          261.96,
          256.77,
          310.38,
          297.61,
          288.25,
          303.96,
          273.01,
          263.11,
          270.94,
          248.7,
          230.65,
          225.05,
          223.07,
          232.51,
          242.98,
          250.33,
          214.91,
          222.07,
          207.72,
          229.97,
          214.68,
          202.71,
          192.78,
          173.07,
          162.07,
          176.05,
          160.15,
          175.33,
          159.25,
          152.43,
          133.63,
          127.51,
          115.67,
          105.1,
          104.55,
          108.77,
          108.59,
          107.6,
          121.33,
          222.85,
          209.01,
          196.62,
          181.79,
          152.73,
          143.38,
          123.58,
          124.08,
          143.38,
          127.15,
          122.25,
          125.23,
          102.72,
          94.01,
          90.36,
          93.89,
          102.25,
          91.74,
          91.64,
          98.55,
          101.91,
          103.76,
          107.14,
          114.06,
          101.02,
          102.86,
          109.13,
          114.88,
          123.01,
          118.73,
          131.43,
          122.41,
          126.79,
          109.73,
          119.88,
          100.54,
          102.23,
          109.34,
          102.42,
          104.04,
          117.73,
          135.96,
          124.14,
          121.29,
          115.18,
          103.51,
          101.84,
          102.27,
          97.76,
          88.86,
          86.94,
          96.16,
          91.83,
          92.52,
          105.66,
          95.99,
          93.01,
          90.04,
          89.54,
          87.3,
          79.08,
          72.03,
          81.08,
          77.21,
          96.79,
          92.95,
          81.13,
          83.07,
          81.0,
          90.45,
          90.2,
          101.19,
          91.31,
          84.2,
          88.08
         ],
         "x": [
          "2017-06-08",
          "2017-06-09",
          "2017-06-10",
          "2017-06-11",
          "2017-06-12",
          "2017-06-13",
          "2017-06-14",
          "2017-06-15",
          "2017-06-16",
          "2017-06-17",
          "2017-06-18",
          "2017-06-19",
          "2017-06-20",
          "2017-06-21",
          "2017-06-22",
          "2017-06-23",
          "2017-06-24",
          "2017-06-25",
          "2017-06-26",
          "2017-06-27",
          "2017-06-28",
          "2017-06-29",
          "2017-06-30",
          "2017-07-01",
          "2017-07-02",
          "2017-07-03",
          "2017-07-04",
          "2017-07-05",
          "2017-07-06",
          "2017-07-07",
          "2017-07-08",
          "2017-07-09",
          "2017-07-10",
          "2017-07-11",
          "2017-07-12",
          "2017-07-13",
          "2017-07-14",
          "2017-07-15",
          "2017-07-16",
          "2017-07-17",
          "2017-07-18",
          "2017-07-19",
          "2017-07-20",
          "2017-07-21",
          "2017-07-22",
          "2017-07-23",
          "2017-07-24",
          "2017-07-25",
          "2017-07-26",
          "2017-07-27",
          "2017-07-28",
          "2017-07-29",
          "2017-07-30",
          "2017-07-31",
          "2017-08-01",
          "2017-08-02",
          "2017-08-03",
          "2017-08-04",
          "2017-08-05",
          "2017-08-06",
          "2017-08-07",
          "2017-08-08",
          "2017-08-09",
          "2017-08-10",
          "2017-08-11",
          "2017-08-12",
          "2017-08-13",
          "2017-08-14",
          "2017-08-15",
          "2017-08-16",
          "2017-08-17",
          "2017-08-18",
          "2017-08-19",
          "2017-08-20",
          "2017-08-21",
          "2017-08-22",
          "2017-08-23",
          "2017-08-24",
          "2017-08-25",
          "2017-08-26",
          "2017-08-27",
          "2017-08-28",
          "2017-08-29",
          "2017-08-30",
          "2017-08-31",
          "2017-09-01",
          "2017-09-02",
          "2017-09-03",
          "2017-09-04",
          "2017-09-05",
          "2017-09-06",
          "2017-09-07",
          "2017-09-08",
          "2017-09-09",
          "2017-09-10",
          "2017-09-11",
          "2017-09-12",
          "2017-09-13",
          "2017-09-14",
          "2017-09-15",
          "2017-09-16",
          "2017-09-17",
          "2017-09-18",
          "2017-09-19",
          "2017-09-20",
          "2017-09-21",
          "2017-09-22",
          "2017-09-23",
          "2017-09-24",
          "2017-09-25",
          "2017-09-26",
          "2017-09-27",
          "2017-09-28",
          "2017-09-29",
          "2017-09-30",
          "2017-10-01",
          "2017-10-02",
          "2017-10-03",
          "2017-10-04",
          "2017-10-05",
          "2017-10-06",
          "2017-10-07",
          "2017-10-08",
          "2017-10-09",
          "2017-10-10",
          "2017-10-11",
          "2017-10-12",
          "2017-10-13",
          "2017-10-14",
          "2017-10-15",
          "2017-10-16",
          "2017-10-17",
          "2017-10-18",
          "2017-10-19",
          "2017-10-20",
          "2017-10-21",
          "2017-10-22",
          "2017-10-23",
          "2017-10-24",
          "2017-10-25",
          "2017-10-26",
          "2017-10-27",
          "2017-10-28",
          "2017-10-29",
          "2017-10-30",
          "2017-10-31",
          "2017-11-01",
          "2017-11-02",
          "2017-11-03",
          "2017-11-04",
          "2017-11-05",
          "2017-11-06",
          "2017-11-07",
          "2017-11-08",
          "2017-11-09",
          "2017-11-10",
          "2017-11-11",
          "2017-11-12",
          "2017-11-13",
          "2017-11-14",
          "2017-11-15",
          "2017-11-16",
          "2017-11-17",
          "2017-11-18",
          "2017-11-19",
          "2017-11-20",
          "2017-11-21",
          "2017-11-22",
          "2017-11-23",
          "2017-11-24",
          "2017-11-25",
          "2017-11-26",
          "2017-11-27",
          "2017-11-28",
          "2017-11-29",
          "2017-11-30",
          "2017-12-01",
          "2017-12-02",
          "2017-12-03",
          "2017-12-04",
          "2017-12-05",
          "2017-12-06",
          "2017-12-07",
          "2017-12-08",
          "2017-12-09",
          "2017-12-10",
          "2017-12-11",
          "2017-12-12",
          "2017-12-13",
          "2017-12-14",
          "2017-12-15",
          "2017-12-16",
          "2017-12-17",
          "2017-12-18",
          "2017-12-19",
          "2017-12-20",
          "2017-12-21",
          "2017-12-22",
          "2017-12-23",
          "2017-12-24",
          "2017-12-25",
          "2017-12-26",
          "2017-12-27",
          "2017-12-28",
          "2017-12-29",
          "2017-12-30",
          "2017-12-31",
          "2018-01-01",
          "2018-01-02",
          "2018-01-03",
          "2018-01-04",
          "2018-01-05",
          "2018-01-06",
          "2018-01-07",
          "2018-01-08",
          "2018-01-09",
          "2018-01-10",
          "2018-01-11",
          "2018-01-12",
          "2018-01-13",
          "2018-01-14",
          "2018-01-15",
          "2018-01-16",
          "2018-01-17",
          "2018-01-18",
          "2018-01-19",
          "2018-01-20",
          "2018-01-21",
          "2018-01-22",
          "2018-01-23",
          "2018-01-24",
          "2018-01-25",
          "2018-01-26",
          "2018-01-27",
          "2018-01-28",
          "2018-01-29",
          "2018-01-30",
          "2018-01-31",
          "2018-02-01",
          "2018-02-02",
          "2018-02-03",
          "2018-02-04",
          "2018-02-05",
          "2018-02-06",
          "2018-02-07",
          "2018-02-08",
          "2018-02-09",
          "2018-02-10",
          "2018-02-11",
          "2018-02-12",
          "2018-02-13",
          "2018-02-14",
          "2018-02-15",
          "2018-02-16",
          "2018-02-17",
          "2018-02-18",
          "2018-02-19",
          "2018-02-20",
          "2018-02-21",
          "2018-02-22",
          "2018-02-23",
          "2018-02-24",
          "2018-02-25",
          "2018-02-26",
          "2018-02-27",
          "2018-02-28",
          "2018-03-01",
          "2018-03-02",
          "2018-03-03",
          "2018-03-04",
          "2018-03-05",
          "2018-03-06",
          "2018-03-07",
          "2018-03-08",
          "2018-03-09",
          "2018-03-10",
          "2018-03-11",
          "2018-03-12",
          "2018-03-13",
          "2018-03-14",
          "2018-03-15",
          "2018-03-16",
          "2018-03-17",
          "2018-03-18",
          "2018-03-19",
          "2018-03-20",
          "2018-03-21",
          "2018-03-22",
          "2018-03-23",
          "2018-03-24",
          "2018-03-25",
          "2018-03-26",
          "2018-03-27",
          "2018-03-28",
          "2018-03-29",
          "2018-03-30",
          "2018-03-31",
          "2018-04-01",
          "2018-04-02",
          "2018-04-03",
          "2018-04-04",
          "2018-04-05",
          "2018-04-06",
          "2018-04-07",
          "2018-04-08",
          "2018-04-09",
          "2018-04-10",
          "2018-04-11",
          "2018-04-12",
          "2018-04-13",
          "2018-04-14",
          "2018-04-15",
          "2018-04-16",
          "2018-04-17",
          "2018-04-18",
          "2018-04-19",
          "2018-04-20",
          "2018-04-21",
          "2018-04-22",
          "2018-04-23",
          "2018-04-24",
          "2018-04-25",
          "2018-04-26",
          "2018-04-27",
          "2018-04-28",
          "2018-04-29",
          "2018-04-30",
          "2018-05-01",
          "2018-05-02",
          "2018-05-03",
          "2018-05-04",
          "2018-05-05",
          "2018-05-06",
          "2018-05-07",
          "2018-05-08",
          "2018-05-09",
          "2018-05-10",
          "2018-05-11",
          "2018-05-12",
          "2018-05-13",
          "2018-05-14",
          "2018-05-15",
          "2018-05-16",
          "2018-05-17",
          "2018-05-18",
          "2018-05-19",
          "2018-05-20",
          "2018-05-21",
          "2018-05-22",
          "2018-05-23",
          "2018-05-24",
          "2018-05-25",
          "2018-05-26",
          "2018-05-27",
          "2018-05-28",
          "2018-05-29",
          "2018-05-30",
          "2018-05-31",
          "2018-06-01",
          "2018-06-02",
          "2018-06-03",
          "2018-06-04",
          "2018-06-05",
          "2018-06-06"
         ],
         "type": "ohlc"
        }
       ],
       "layout": {
        "template": {
         "data": {
          "histogram2dcontour": [
           {
            "type": "histogram2dcontour",
            "colorbar": {
             "outlinewidth": 0,
             "ticks": ""
            },
            "colorscale": [
             [
              0.0,
              "#0d0887"
             ],
             [
              0.1111111111111111,
              "#46039f"
             ],
             [
              0.2222222222222222,
              "#7201a8"
             ],
             [
              0.3333333333333333,
              "#9c179e"
             ],
             [
              0.4444444444444444,
              "#bd3786"
             ],
             [
              0.5555555555555556,
              "#d8576b"
             ],
             [
              0.6666666666666666,
              "#ed7953"
             ],
             [
              0.7777777777777778,
              "#fb9f3a"
             ],
             [
              0.8888888888888888,
              "#fdca26"
             ],
             [
              1.0,
              "#f0f921"
             ]
            ]
           }
          ],
          "choropleth": [
           {
            "type": "choropleth",
            "colorbar": {
             "outlinewidth": 0,
             "ticks": ""
            }
           }
          ],
          "histogram2d": [
           {
            "type": "histogram2d",
            "colorbar": {
             "outlinewidth": 0,
             "ticks": ""
            },
            "colorscale": [
             [
              0.0,
              "#0d0887"
             ],
             [
              0.1111111111111111,
              "#46039f"
             ],
             [
              0.2222222222222222,
              "#7201a8"
             ],
             [
              0.3333333333333333,
              "#9c179e"
             ],
             [
              0.4444444444444444,
              "#bd3786"
             ],
             [
              0.5555555555555556,
              "#d8576b"
             ],
             [
              0.6666666666666666,
              "#ed7953"
             ],
             [
              0.7777777777777778,
              "#fb9f3a"
             ],
             [
              0.8888888888888888,
              "#fdca26"
             ],
             [
              1.0,
              "#f0f921"
             ]
            ]
           }
          ],
          "heatmap": [
           {
            "type": "heatmap",
            "colorbar": {
             "outlinewidth": 0,
             "ticks": ""
            },
            "colorscale": [
             [
              0.0,
              "#0d0887"
             ],
             [
              0.1111111111111111,
              "#46039f"
             ],
             [
              0.2222222222222222,
              "#7201a8"
             ],
             [
              0.3333333333333333,
              "#9c179e"
             ],
             [
              0.4444444444444444,
              "#bd3786"
             ],
             [
              0.5555555555555556,
              "#d8576b"
             ],
             [
              0.6666666666666666,
              "#ed7953"
             ],
             [
              0.7777777777777778,
              "#fb9f3a"
             ],
             [
              0.8888888888888888,
              "#fdca26"
             ],
             [
              1.0,
              "#f0f921"
             ]
            ]
           }
          ],
          "heatmapgl": [
           {
            "type": "heatmapgl",
            "colorbar": {
             "outlinewidth": 0,
             "ticks": ""
            },
            "colorscale": [
             [
              0.0,
              "#0d0887"
             ],
             [
              0.1111111111111111,
              "#46039f"
             ],
             [
              0.2222222222222222,
              "#7201a8"
             ],
             [
              0.3333333333333333,
              "#9c179e"
             ],
             [
              0.4444444444444444,
              "#bd3786"
             ],
             [
              0.5555555555555556,
              "#d8576b"
             ],
             [
              0.6666666666666666,
              "#ed7953"
             ],
             [
              0.7777777777777778,
              "#fb9f3a"
             ],
             [
              0.8888888888888888,
              "#fdca26"
             ],
             [
              1.0,
              "#f0f921"
             ]
            ]
           }
          ],
          "contourcarpet": [
           {
            "type": "contourcarpet",
            "colorbar": {
             "outlinewidth": 0,
             "ticks": ""
            }
           }
          ],
          "contour": [
           {
            "type": "contour",
            "colorbar": {
             "outlinewidth": 0,
             "ticks": ""
            },
            "colorscale": [
             [
              0.0,
              "#0d0887"
             ],
             [
              0.1111111111111111,
              "#46039f"
             ],
             [
              0.2222222222222222,
              "#7201a8"
             ],
             [
              0.3333333333333333,
              "#9c179e"
             ],
             [
              0.4444444444444444,
              "#bd3786"
             ],
             [
              0.5555555555555556,
              "#d8576b"
             ],
             [
              0.6666666666666666,
              "#ed7953"
             ],
             [
              0.7777777777777778,
              "#fb9f3a"
             ],
             [
              0.8888888888888888,
              "#fdca26"
             ],
             [
              1.0,
              "#f0f921"
             ]
            ]
           }
          ],
          "surface": [
           {
            "type": "surface",
            "colorbar": {
             "outlinewidth": 0,
             "ticks": ""
            },
            "colorscale": [
             [
              0.0,
              "#0d0887"
             ],
             [
              0.1111111111111111,
              "#46039f"
             ],
             [
              0.2222222222222222,
              "#7201a8"
             ],
             [
              0.3333333333333333,
              "#9c179e"
             ],
             [
              0.4444444444444444,
              "#bd3786"
             ],
             [
              0.5555555555555556,
              "#d8576b"
             ],
             [
              0.6666666666666666,
              "#ed7953"
             ],
             [
              0.7777777777777778,
              "#fb9f3a"
             ],
             [
              0.8888888888888888,
              "#fdca26"
             ],
             [
              1.0,
              "#f0f921"
             ]
            ]
           }
          ],
          "mesh3d": [
           {
            "type": "mesh3d",
            "colorbar": {
             "outlinewidth": 0,
             "ticks": ""
            }
           }
          ],
          "scatter": [
           {
            "marker": {
             "line": {
              "color": "#283442"
             }
            },
            "type": "scatter"
           }
          ],
          "parcoords": [
           {
            "type": "parcoords",
            "line": {
             "colorbar": {
              "outlinewidth": 0,
              "ticks": ""
             }
            }
           }
          ],
          "scatterpolargl": [
           {
            "type": "scatterpolargl",
            "marker": {
             "colorbar": {
              "outlinewidth": 0,
              "ticks": ""
             }
            }
           }
          ],
          "bar": [
           {
            "error_x": {
             "color": "#f2f5fa"
            },
            "error_y": {
             "color": "#f2f5fa"
            },
            "marker": {
             "line": {
              "color": "rgb(17,17,17)",
              "width": 0.5
             },
             "pattern": {
              "fillmode": "overlay",
              "size": 10,
              "solidity": 0.2
             }
            },
            "type": "bar"
           }
          ],
          "scattergeo": [
           {
            "type": "scattergeo",
            "marker": {
             "colorbar": {
              "outlinewidth": 0,
              "ticks": ""
             }
            }
           }
          ],
          "scatterpolar": [
           {
            "type": "scatterpolar",
            "marker": {
             "colorbar": {
              "outlinewidth": 0,
              "ticks": ""
             }
            }
           }
          ],
          "histogram": [
           {
            "marker": {
             "pattern": {
              "fillmode": "overlay",
              "size": 10,
              "solidity": 0.2
             }
            },
            "type": "histogram"
           }
          ],
          "scattergl": [
           {
            "marker": {
             "line": {
              "color": "#283442"
             }
            },
            "type": "scattergl"
           }
          ],
          "scatter3d": [
           {
            "type": "scatter3d",
            "line": {
             "colorbar": {
              "outlinewidth": 0,
              "ticks": ""
             }
            },
            "marker": {
             "colorbar": {
              "outlinewidth": 0,
              "ticks": ""
             }
            }
           }
          ],
          "scattermapbox": [
           {
            "type": "scattermapbox",
            "marker": {
             "colorbar": {
              "outlinewidth": 0,
              "ticks": ""
             }
            }
           }
          ],
          "scatterternary": [
           {
            "type": "scatterternary",
            "marker": {
             "colorbar": {
              "outlinewidth": 0,
              "ticks": ""
             }
            }
           }
          ],
          "scattercarpet": [
           {
            "type": "scattercarpet",
            "marker": {
             "colorbar": {
              "outlinewidth": 0,
              "ticks": ""
             }
            }
           }
          ],
          "carpet": [
           {
            "aaxis": {
             "endlinecolor": "#A2B1C6",
             "gridcolor": "#506784",
             "linecolor": "#506784",
             "minorgridcolor": "#506784",
             "startlinecolor": "#A2B1C6"
            },
            "baxis": {
             "endlinecolor": "#A2B1C6",
             "gridcolor": "#506784",
             "linecolor": "#506784",
             "minorgridcolor": "#506784",
             "startlinecolor": "#A2B1C6"
            },
            "type": "carpet"
           }
          ],
          "table": [
           {
            "cells": {
             "fill": {
              "color": "#506784"
             },
             "line": {
              "color": "rgb(17,17,17)"
             }
            },
            "header": {
             "fill": {
              "color": "#2a3f5f"
             },
             "line": {
              "color": "rgb(17,17,17)"
             }
            },
            "type": "table"
           }
          ],
          "barpolar": [
           {
            "marker": {
             "line": {
              "color": "rgb(17,17,17)",
              "width": 0.5
             },
             "pattern": {
              "fillmode": "overlay",
              "size": 10,
              "solidity": 0.2
             }
            },
            "type": "barpolar"
           }
          ],
          "pie": [
           {
            "automargin": true,
            "type": "pie"
           }
          ]
         },
         "layout": {
          "autotypenumbers": "strict",
          "colorway": [
           "#636efa",
           "#EF553B",
           "#00cc96",
           "#ab63fa",
           "#FFA15A",
           "#19d3f3",
           "#FF6692",
           "#B6E880",
           "#FF97FF",
           "#FECB52"
          ],
          "font": {
           "color": "#f2f5fa"
          },
          "hovermode": "closest",
          "hoverlabel": {
           "align": "left"
          },
          "paper_bgcolor": "rgb(17,17,17)",
          "plot_bgcolor": "rgb(17,17,17)",
          "polar": {
           "bgcolor": "rgb(17,17,17)",
           "angularaxis": {
            "gridcolor": "#506784",
            "linecolor": "#506784",
            "ticks": ""
           },
           "radialaxis": {
            "gridcolor": "#506784",
            "linecolor": "#506784",
            "ticks": ""
           }
          },
          "ternary": {
           "bgcolor": "rgb(17,17,17)",
           "aaxis": {
            "gridcolor": "#506784",
            "linecolor": "#506784",
            "ticks": ""
           },
           "baxis": {
            "gridcolor": "#506784",
            "linecolor": "#506784",
            "ticks": ""
           },
           "caxis": {
            "gridcolor": "#506784",
            "linecolor": "#506784",
            "ticks": ""
           }
          },
          "coloraxis": {
           "colorbar": {
            "outlinewidth": 0,
            "ticks": ""
           }
          },
          "colorscale": {
           "sequential": [
            [
             0.0,
             "#0d0887"
            ],
            [
             0.1111111111111111,
             "#46039f"
            ],
            [
             0.2222222222222222,
             "#7201a8"
            ],
            [
             0.3333333333333333,
             "#9c179e"
            ],
            [
             0.4444444444444444,
             "#bd3786"
            ],
            [
             0.5555555555555556,
             "#d8576b"
            ],
            [
             0.6666666666666666,
             "#ed7953"
            ],
            [
             0.7777777777777778,
             "#fb9f3a"
            ],
            [
             0.8888888888888888,
             "#fdca26"
            ],
            [
             1.0,
             "#f0f921"
            ]
           ],
           "sequentialminus": [
            [
             0.0,
             "#0d0887"
            ],
            [
             0.1111111111111111,
             "#46039f"
            ],
            [
             0.2222222222222222,
             "#7201a8"
            ],
            [
             0.3333333333333333,
             "#9c179e"
            ],
            [
             0.4444444444444444,
             "#bd3786"
            ],
            [
             0.5555555555555556,
             "#d8576b"
            ],
            [
             0.6666666666666666,
             "#ed7953"
            ],
            [
             0.7777777777777778,
             "#fb9f3a"
            ],
            [
             0.8888888888888888,
             "#fdca26"
            ],
            [
             1.0,
             "#f0f921"
            ]
           ],
           "diverging": [
            [
             0,
             "#8e0152"
            ],
            [
             0.1,
             "#c51b7d"
            ],
            [
             0.2,
             "#de77ae"
            ],
            [
             0.3,
             "#f1b6da"
            ],
            [
             0.4,
             "#fde0ef"
            ],
            [
             0.5,
             "#f7f7f7"
            ],
            [
             0.6,
             "#e6f5d0"
            ],
            [
             0.7,
             "#b8e186"
            ],
            [
             0.8,
             "#7fbc41"
            ],
            [
             0.9,
             "#4d9221"
            ],
            [
             1,
             "#276419"
            ]
           ]
          },
          "xaxis": {
           "gridcolor": "#283442",
           "linecolor": "#506784",
           "ticks": "",
           "title": {
            "standoff": 15
           },
           "zerolinecolor": "#283442",
           "automargin": true,
           "zerolinewidth": 2
          },
          "yaxis": {
           "gridcolor": "#283442",
           "linecolor": "#506784",
           "ticks": "",
           "title": {
            "standoff": 15
           },
           "zerolinecolor": "#283442",
           "automargin": true,
           "zerolinewidth": 2
          },
          "scene": {
           "xaxis": {
            "backgroundcolor": "rgb(17,17,17)",
            "gridcolor": "#506784",
            "linecolor": "#506784",
            "showbackground": true,
            "ticks": "",
            "zerolinecolor": "#C8D4E3",
            "gridwidth": 2
           },
           "yaxis": {
            "backgroundcolor": "rgb(17,17,17)",
            "gridcolor": "#506784",
            "linecolor": "#506784",
            "showbackground": true,
            "ticks": "",
            "zerolinecolor": "#C8D4E3",
            "gridwidth": 2
           },
           "zaxis": {
            "backgroundcolor": "rgb(17,17,17)",
            "gridcolor": "#506784",
            "linecolor": "#506784",
            "showbackground": true,
            "ticks": "",
            "zerolinecolor": "#C8D4E3",
            "gridwidth": 2
           }
          },
          "shapedefaults": {
           "line": {
            "color": "#f2f5fa"
           }
          },
          "annotationdefaults": {
           "arrowcolor": "#f2f5fa",
           "arrowhead": 0,
           "arrowwidth": 1
          },
          "geo": {
           "bgcolor": "rgb(17,17,17)",
           "landcolor": "rgb(17,17,17)",
           "subunitcolor": "#506784",
           "showland": true,
           "showlakes": true,
           "lakecolor": "rgb(17,17,17)"
          },
          "title": {
           "x": 0.05
          },
          "updatemenudefaults": {
           "bgcolor": "#506784",
           "borderwidth": 0
          },
          "sliderdefaults": {
           "bgcolor": "#C8D4E3",
           "borderwidth": 1,
           "bordercolor": "rgb(17,17,17)",
           "tickwidth": 0
          },
          "mapbox": {
           "style": "dark"
          }
         }
        },
        "autosize": false,
        "width": 800,
        "height": 800
       },
       "config": {
        "plotlyServerURL": "https://plot.ly"
       }
      },
      "text/html": "<div>                            <div id=\"3045de24-e01d-43bd-bb92-f9b9b0c76fbf\" class=\"plotly-graph-div\" style=\"height:800px; width:800px;\"></div>            <script type=\"text/javascript\">                require([\"plotly\"], function(Plotly) {                    window.PLOTLYENV=window.PLOTLYENV || {};                                    if (document.getElementById(\"3045de24-e01d-43bd-bb92-f9b9b0c76fbf\")) {                    Plotly.newPlot(                        \"3045de24-e01d-43bd-bb92-f9b9b0c76fbf\",                        [{\"close\":[48.56,58.61,3.16,0.000338,23.3,54.15,48.0,78.91,47.63,74.51,80.06,153.59,125.65,101.43,101.09,88.08,91.28,87.86,73.6,91.12,102.19,87.19,79.39,80.29,89.72,85.31,187.64,204.8,207.61,168.65,179.7,161.68,141.6,125.5,162.44,128.79,129.44,107.21,137.06,158.9,217.09,180.86,207.78,204.8,232.57,198.06,198.97,160.36,145.65,157.69,148.68,156.38,140.84,152.89,193.19,168.8,159.41,150.94,151.67,163.14,156.0,141.81,128.91,132.89,134.38,123.27,121.5,127.73,121.04,120.4,138.87,125.58,126.82,126.31,122.42,113.57,107.69,109.53,114.72,106.29,99.9,104.29,104.35,93.72,94.14,93.88,98.08,99.19,100.06,100.48,109.04,104.03,103.19,95.38,87.37,88.19,92.7,81.15,69.65,86.72,86.4,104.61,99.58,88.1,91.05,80.65,80.07,86.72,78.36,80.98,77.73,83.1,75.26,74.67,64.74,74.49,70.69,67.77,67.02,64.22,67.57,61.8,56.42,57.83,63.72,84.5,80.53,78.55,84.14,78.18,79.03,73.69,71.26,63.44,61.57,62.3,66.34,59.7,57.15,56.56,54.85,53.62,51.47,52.03,48.13,50.81,48.08,50.99,54.36,54.38,63.6,54.05,57.22,70.66,74.41,69.49,71.62,65.93,72.08,78.91,83.19,99.41,104.47,112.38,109.62,102.97,89.79,92.48,89.2,90.64,89.84,91.54,102.97,102.41,90.88,94.97,94.27,99.78,101.71,109.53,153.86,135.88,157.57,174.26,156.29,156.03,182.0,224.0,220.2,210.6,232.96,269.83,276.11,279.74,251.13,268.26,374.96,338.76,327.43,327.68,361.56,350.71,328.36,307.12,354.17,338.29,337.33,343.12,377.54,376.05,368.46,380.11,377.78,397.72,419.86,465.59,466.7,396.61,419.32,433.01,409.33,393.63,329.19,307.24,347.9,414.68,429.95,380.41,361.91,347.34,367.39,389.16,372.4,384.55,401.43,402.69,358.97,404.91,353.22,331.96,351.01,311.38,244.83,273.46,268.49,278.58,287.27,278.96,272.0,272.81,257.47,309.72,298.29,286.6,303.49,273.46,262.99,270.69,249.05,231.61,227.06,222.94,232.35,242.32,248.3,214.84,221.37,210.25,226.2,214.69,203.08,192.74,173.34,168.9,176.11,160.77,175.6,159.46,152.46,133.65,127.65,114.48,105.33,104.83,107.93,108.33,107.55,121.98,220.75,210.88,196.41,181.51,153.57,143.25,123.92,123.69,143.37,128.28,122.14,125.02,102.8,94.99,90.37,94.63,102.03,92.14,89.28,98.94,101.79,102.32,105.64,113.97,101.03,102.64,109.11,114.83,123.04,118.51,131.78,122.44,127.44,108.81,119.7,100.39,102.23,109.31,102.16,103.19,118.88,136.43,124.44,121.25,115.11,103.26,101.63,102.08,96.66,93.18,87.52,96.2,92.21,92.62,105.24,96.02,92.85,89.83,89.43,87.24,79.04,72.3,81.19,77.69,100.51,92.4,80.91,82.67,81.19,84.69,90.06,102.8,92.3,83.12,87.97,88.6],\"high\":[253.27,259.75,84.49,112.39,329.42,252.32,106.85,143.87,85.2,214.17,120.16,355.37,182.19,425.01,112.83,109.77,101.99,137.37,104.08,92.05,538.97,195.47,282.15,368.97,104.44,217.48,298.33,268.63,345.17,469.16,191.82,191.44,213.46,159.06,219.83,156.75,199.81,174.6,203.6,175.58,288.38,251.32,215.82,217.52,234.66,247.22,224.62,200.83,165.1,157.74,179.87,159.92,159.18,152.89,197.36,207.26,188.26,171.61,162.6,169.08,166.6,160.68,155.89,153.81,149.06,149.12,134.33,146.39,139.16,124.85,153.51,149.8,129.53,136.9,135.75,126.51,122.18,130.99,128.29,121.17,112.45,133.24,111.36,105.52,103.47,96.24,104.13,126.47,101.11,103.0,112.28,108.99,108.25,104.98,95.67,98.66,95.22,91.42,84.37,87.72,101.2,104.66,115.94,102.55,107.78,91.75,85.9,86.93,88.55,86.67,87.45,84.99,85.14,76.35,79.62,76.97,75.92,74.49,73.78,68.41,75.52,68.06,66.12,63.99,64.57,84.56,141.16,88.12,89.09,85.31,91.15,82.6,73.65,73.37,65.88,64.44,67.97,68.3,67.8,60.3,59.52,55.3,58.21,55.04,54.45,52.44,53.17,59.02,57.05,58.91,63.64,64.8,62.2,74.85,83.37,79.07,76.14,75.17,72.34,80.73,86.59,111.9,105.36,113.09,124.49,114.56,102.84,97.12,100.28,98.6,97.29,95.37,109.29,114.86,110.53,109.72,98.29,105.79,109.53,109.53,158.47,160.41,158.47,180.61,191.81,168.7,190.13,226.43,243.94,238.28,232.96,299.87,292.86,299.33,309.76,279.02,404.12,407.32,374.59,336.96,385.7,374.19,374.18,325.38,376.42,358.8,356.44,357.18,393.92,395.28,397.02,395.69,389.13,406.13,483.98,478.21,506.33,474.19,454.44,456.46,450.96,432.15,396.69,348.99,417.31,423.15,508.57,429.99,398.15,365.54,382.56,413.32,402.89,406.72,428.67,414.48,406.21,404.91,435.8,360.68,363.24,362.76,315.85,274.87,309.04,310.06,295.11,302.45,283.2,286.97,278.88,310.04,316.15,314.83,304.73,303.96,290.36,305.52,275.11,265.28,248.77,242.11,242.35,260.89,263.21,250.33,228.3,228.59,245.66,239.13,226.63,208.79,206.85,195.43,181.37,192.37,175.61,176.46,161.75,162.71,137.55,133.06,120.19,106.14,112.16,112.22,116.53,124.96,222.94,225.09,212.59,198.62,184.27,157.86,147.67,133.61,146.78,152.81,131.45,130.32,125.23,112.13,94.97,101.89,103.03,105.36,96.6,99.39,103.02,110.66,114.96,113.97,120.48,111.15,112.0,117.86,124.5,127.77,139.71,139.9,131.53,128.28,120.1,121.22,109.62,110.7,113.02,106.13,118.97,142.13,137.4,135.71,125.08,118.56,109.81,109.69,105.67,98.69,94.96,98.71,97.05,95.13,110.34,111.02,100.35,97.98,99.36,107.58,87.42,79.94,81.19,82.85,101.1,99.97,95.5,82.67,87.14,94.14,93.36,106.06,108.96,97.52,89.05,94.08],\"low\":[33.71,47.15,3.16,0.000337,11.91,15.39,11.68,28.58,28.25,42.36,57.11,70.46,34.75,69.71,72.42,81.78,65.1,76.89,64.75,68.18,70.25,27.05,16.52,73.15,71.01,76.36,135.96,91.22,53.0,110.96,92.97,104.75,120.37,112.86,108.63,119.37,92.59,93.52,84.43,114.92,152.68,177.1,181.53,191.51,204.95,198.06,122.13,154.28,145.63,137.94,147.2,135.87,133.03,134.75,147.46,165.81,156.24,141.49,144.94,143.72,144.88,124.98,127.25,125.46,121.58,110.6,103.43,119.83,112.36,114.38,116.56,119.55,120.47,115.95,113.06,102.42,101.3,89.55,105.36,100.56,96.82,96.58,99.32,81.73,90.63,76.0,83.62,92.15,81.67,83.68,98.67,97.07,55.94,90.28,87.37,83.11,83.3,71.16,66.16,59.83,81.18,82.25,93.44,85.04,82.09,77.0,73.47,74.24,77.16,78.48,76.97,74.22,74.89,70.97,62.07,64.65,65.57,61.08,65.8,63.39,61.28,58.82,55.61,54.87,57.41,63.36,75.23,67.04,75.74,74.59,74.88,69.96,60.27,61.08,60.83,57.49,59.98,57.8,57.15,54.52,51.73,49.99,50.65,46.26,46.98,45.63,46.86,44.58,51.19,50.65,51.43,53.21,54.11,57.06,69.86,67.11,65.46,62.79,65.27,72.1,77.21,82.44,93.66,98.73,108.88,97.92,89.73,86.14,86.55,86.6,86.58,85.74,89.84,96.61,89.4,81.46,89.32,93.68,95.98,100.44,107.82,130.5,130.12,139.21,140.7,150.03,155.42,174.6,198.81,200.4,197.49,233.69,265.08,262.08,244.78,223.24,268.23,255.38,327.43,278.3,324.59,346.01,305.63,274.87,309.6,316.14,327.64,325.32,335.6,352.05,353.17,356.26,365.11,364.01,367.75,415.28,425.81,372.98,378.46,418.88,382.8,383.6,265.97,226.2,296.04,344.51,413.63,347.99,330.09,314.4,329.85,370.13,319.88,365.23,382.22,376.25,332.88,334.35,326.54,251.46,317.32,293.83,220.77,196.37,258.4,267.84,261.02,265.02,253.79,261.57,242.79,255.03,285.92,259.42,278.53,254.97,255.37,260.7,248.03,210.33,212.08,213.39,218.64,231.54,234.29,213.05,209.29,196.46,206.72,212.59,191.3,179.32,168.9,164.3,154.1,155.92,151.65,151.27,147.77,119.81,114.9,114.39,103.54,84.83,100.08,101.75,101.33,100.87,121.33,186.84,196.41,157.6,153.57,129.59,117.59,116.55,123.53,126.02,116.79,118.39,99.51,89.84,81.35,90.01,93.13,88.73,88.2,86.32,88.01,96.84,102.62,105.8,100.75,99.35,98.8,109.08,114.08,117.29,112.8,122.17,121.41,108.81,104.97,100.39,99.48,98.02,101.53,97.83,103.81,117.73,121.2,117.01,107.0,98.42,92.74,93.46,96.58,84.89,65.96,83.69,87.75,83.4,85.44,91.82,87.29,88.51,87.17,83.34,77.89,65.47,67.81,70.85,76.7,87.01,78.03,74.9,75.01,80.03,83.38,90.2,91.53,80.07,79.13,85.72],\"open\":[48.96,49.18,58.58,3.35,34.22,38.43,38.68,47.99,46.21,48.57,74.44,71.05,182.19,125.79,102.2,96.25,91.33,81.98,88.64,79.69,91.63,101.95,84.67,83.31,80.36,88.89,135.96,187.33,204.79,206.16,169.0,180.13,149.43,133.98,129.04,156.61,128.51,116.49,106.74,136.33,157.26,221.25,181.53,210.13,205.71,232.05,198.83,199.72,158.9,145.76,158.11,148.48,156.72,141.15,153.14,193.15,169.67,159.97,150.87,151.03,162.86,156.0,142.15,128.62,132.55,134.47,122.52,121.03,128.02,121.22,120.48,138.92,125.67,126.3,126.33,122.35,113.11,107.71,108.33,114.73,106.43,100.0,104.14,104.27,93.49,94.32,94.08,98.14,99.2,100.37,101.36,108.99,104.24,103.22,95.09,87.63,87.64,91.42,81.08,70.18,87.26,86.26,106.6,99.86,88.03,90.69,80.61,80.01,86.73,78.48,80.96,77.63,83.02,75.19,75.0,65.04,74.52,70.5,67.94,67.03,64.35,67.53,61.79,56.53,57.96,63.73,84.58,80.44,78.62,84.24,78.01,79.74,73.62,71.15,63.4,61.79,61.95,66.4,59.7,57.04,56.45,54.93,53.78,51.43,51.96,48.14,50.72,48.11,51.19,54.35,54.24,63.68,54.12,57.17,70.32,75.1,69.28,71.62,66.04,72.1,78.95,83.19,99.31,104.61,112.11,109.61,102.84,89.92,92.64,90.45,90.6,89.84,91.53,102.87,102.47,92.07,94.69,94.07,99.83,101.23,109.63,152.38,133.31,159.33,174.2,156.59,157.76,181.37,224.95,219.99,207.56,233.69,269.65,275.88,278.71,250.95,268.63,376.3,342.86,331.23,330.04,359.69,351.39,324.47,309.8,355.22,335.87,338.14,343.79,378.55,376.58,366.43,373.31,377.55,401.18,419.92,469.0,458.39,398.34,418.88,438.18,408.71,395.65,327.39,312.97,344.51,415.56,429.99,382.7,361.21,347.36,375.66,387.28,372.38,383.28,401.35,405.75,362.4,404.99,352.07,332.7,350.97,308.0,245.5,274.41,267.84,279.02,287.3,278.61,273.33,261.96,256.77,310.38,297.61,288.25,303.96,273.01,263.11,270.94,248.7,230.65,225.05,223.07,232.51,242.98,250.33,214.91,222.07,207.72,229.97,214.68,202.71,192.78,173.07,162.07,176.05,160.15,175.33,159.25,152.43,133.63,127.51,115.67,105.1,104.55,108.77,108.59,107.6,121.33,222.85,209.01,196.62,181.79,152.73,143.38,123.58,124.08,143.38,127.15,122.25,125.23,102.72,94.01,90.36,93.89,102.25,91.74,91.64,98.55,101.91,103.76,107.14,114.06,101.02,102.86,109.13,114.88,123.01,118.73,131.43,122.41,126.79,109.73,119.88,100.54,102.23,109.34,102.42,104.04,117.73,135.96,124.14,121.29,115.18,103.51,101.84,102.27,97.76,88.86,86.94,96.16,91.83,92.52,105.66,95.99,93.01,90.04,89.54,87.3,79.08,72.03,81.08,77.21,96.79,92.95,81.13,83.07,81.0,90.45,90.2,101.19,91.31,84.2,88.08],\"x\":[\"2017-06-08\",\"2017-06-09\",\"2017-06-10\",\"2017-06-11\",\"2017-06-12\",\"2017-06-13\",\"2017-06-14\",\"2017-06-15\",\"2017-06-16\",\"2017-06-17\",\"2017-06-18\",\"2017-06-19\",\"2017-06-20\",\"2017-06-21\",\"2017-06-22\",\"2017-06-23\",\"2017-06-24\",\"2017-06-25\",\"2017-06-26\",\"2017-06-27\",\"2017-06-28\",\"2017-06-29\",\"2017-06-30\",\"2017-07-01\",\"2017-07-02\",\"2017-07-03\",\"2017-07-04\",\"2017-07-05\",\"2017-07-06\",\"2017-07-07\",\"2017-07-08\",\"2017-07-09\",\"2017-07-10\",\"2017-07-11\",\"2017-07-12\",\"2017-07-13\",\"2017-07-14\",\"2017-07-15\",\"2017-07-16\",\"2017-07-17\",\"2017-07-18\",\"2017-07-19\",\"2017-07-20\",\"2017-07-21\",\"2017-07-22\",\"2017-07-23\",\"2017-07-24\",\"2017-07-25\",\"2017-07-26\",\"2017-07-27\",\"2017-07-28\",\"2017-07-29\",\"2017-07-30\",\"2017-07-31\",\"2017-08-01\",\"2017-08-02\",\"2017-08-03\",\"2017-08-04\",\"2017-08-05\",\"2017-08-06\",\"2017-08-07\",\"2017-08-08\",\"2017-08-09\",\"2017-08-10\",\"2017-08-11\",\"2017-08-12\",\"2017-08-13\",\"2017-08-14\",\"2017-08-15\",\"2017-08-16\",\"2017-08-17\",\"2017-08-18\",\"2017-08-19\",\"2017-08-20\",\"2017-08-21\",\"2017-08-22\",\"2017-08-23\",\"2017-08-24\",\"2017-08-25\",\"2017-08-26\",\"2017-08-27\",\"2017-08-28\",\"2017-08-29\",\"2017-08-30\",\"2017-08-31\",\"2017-09-01\",\"2017-09-02\",\"2017-09-03\",\"2017-09-04\",\"2017-09-05\",\"2017-09-06\",\"2017-09-07\",\"2017-09-08\",\"2017-09-09\",\"2017-09-10\",\"2017-09-11\",\"2017-09-12\",\"2017-09-13\",\"2017-09-14\",\"2017-09-15\",\"2017-09-16\",\"2017-09-17\",\"2017-09-18\",\"2017-09-19\",\"2017-09-20\",\"2017-09-21\",\"2017-09-22\",\"2017-09-23\",\"2017-09-24\",\"2017-09-25\",\"2017-09-26\",\"2017-09-27\",\"2017-09-28\",\"2017-09-29\",\"2017-09-30\",\"2017-10-01\",\"2017-10-02\",\"2017-10-03\",\"2017-10-04\",\"2017-10-05\",\"2017-10-06\",\"2017-10-07\",\"2017-10-08\",\"2017-10-09\",\"2017-10-10\",\"2017-10-11\",\"2017-10-12\",\"2017-10-13\",\"2017-10-14\",\"2017-10-15\",\"2017-10-16\",\"2017-10-17\",\"2017-10-18\",\"2017-10-19\",\"2017-10-20\",\"2017-10-21\",\"2017-10-22\",\"2017-10-23\",\"2017-10-24\",\"2017-10-25\",\"2017-10-26\",\"2017-10-27\",\"2017-10-28\",\"2017-10-29\",\"2017-10-30\",\"2017-10-31\",\"2017-11-01\",\"2017-11-02\",\"2017-11-03\",\"2017-11-04\",\"2017-11-05\",\"2017-11-06\",\"2017-11-07\",\"2017-11-08\",\"2017-11-09\",\"2017-11-10\",\"2017-11-11\",\"2017-11-12\",\"2017-11-13\",\"2017-11-14\",\"2017-11-15\",\"2017-11-16\",\"2017-11-17\",\"2017-11-18\",\"2017-11-19\",\"2017-11-20\",\"2017-11-21\",\"2017-11-22\",\"2017-11-23\",\"2017-11-24\",\"2017-11-25\",\"2017-11-26\",\"2017-11-27\",\"2017-11-28\",\"2017-11-29\",\"2017-11-30\",\"2017-12-01\",\"2017-12-02\",\"2017-12-03\",\"2017-12-04\",\"2017-12-05\",\"2017-12-06\",\"2017-12-07\",\"2017-12-08\",\"2017-12-09\",\"2017-12-10\",\"2017-12-11\",\"2017-12-12\",\"2017-12-13\",\"2017-12-14\",\"2017-12-15\",\"2017-12-16\",\"2017-12-17\",\"2017-12-18\",\"2017-12-19\",\"2017-12-20\",\"2017-12-21\",\"2017-12-22\",\"2017-12-23\",\"2017-12-24\",\"2017-12-25\",\"2017-12-26\",\"2017-12-27\",\"2017-12-28\",\"2017-12-29\",\"2017-12-30\",\"2017-12-31\",\"2018-01-01\",\"2018-01-02\",\"2018-01-03\",\"2018-01-04\",\"2018-01-05\",\"2018-01-06\",\"2018-01-07\",\"2018-01-08\",\"2018-01-09\",\"2018-01-10\",\"2018-01-11\",\"2018-01-12\",\"2018-01-13\",\"2018-01-14\",\"2018-01-15\",\"2018-01-16\",\"2018-01-17\",\"2018-01-18\",\"2018-01-19\",\"2018-01-20\",\"2018-01-21\",\"2018-01-22\",\"2018-01-23\",\"2018-01-24\",\"2018-01-25\",\"2018-01-26\",\"2018-01-27\",\"2018-01-28\",\"2018-01-29\",\"2018-01-30\",\"2018-01-31\",\"2018-02-01\",\"2018-02-02\",\"2018-02-03\",\"2018-02-04\",\"2018-02-05\",\"2018-02-06\",\"2018-02-07\",\"2018-02-08\",\"2018-02-09\",\"2018-02-10\",\"2018-02-11\",\"2018-02-12\",\"2018-02-13\",\"2018-02-14\",\"2018-02-15\",\"2018-02-16\",\"2018-02-17\",\"2018-02-18\",\"2018-02-19\",\"2018-02-20\",\"2018-02-21\",\"2018-02-22\",\"2018-02-23\",\"2018-02-24\",\"2018-02-25\",\"2018-02-26\",\"2018-02-27\",\"2018-02-28\",\"2018-03-01\",\"2018-03-02\",\"2018-03-03\",\"2018-03-04\",\"2018-03-05\",\"2018-03-06\",\"2018-03-07\",\"2018-03-08\",\"2018-03-09\",\"2018-03-10\",\"2018-03-11\",\"2018-03-12\",\"2018-03-13\",\"2018-03-14\",\"2018-03-15\",\"2018-03-16\",\"2018-03-17\",\"2018-03-18\",\"2018-03-19\",\"2018-03-20\",\"2018-03-21\",\"2018-03-22\",\"2018-03-23\",\"2018-03-24\",\"2018-03-25\",\"2018-03-26\",\"2018-03-27\",\"2018-03-28\",\"2018-03-29\",\"2018-03-30\",\"2018-03-31\",\"2018-04-01\",\"2018-04-02\",\"2018-04-03\",\"2018-04-04\",\"2018-04-05\",\"2018-04-06\",\"2018-04-07\",\"2018-04-08\",\"2018-04-09\",\"2018-04-10\",\"2018-04-11\",\"2018-04-12\",\"2018-04-13\",\"2018-04-14\",\"2018-04-15\",\"2018-04-16\",\"2018-04-17\",\"2018-04-18\",\"2018-04-19\",\"2018-04-20\",\"2018-04-21\",\"2018-04-22\",\"2018-04-23\",\"2018-04-24\",\"2018-04-25\",\"2018-04-26\",\"2018-04-27\",\"2018-04-28\",\"2018-04-29\",\"2018-04-30\",\"2018-05-01\",\"2018-05-02\",\"2018-05-03\",\"2018-05-04\",\"2018-05-05\",\"2018-05-06\",\"2018-05-07\",\"2018-05-08\",\"2018-05-09\",\"2018-05-10\",\"2018-05-11\",\"2018-05-12\",\"2018-05-13\",\"2018-05-14\",\"2018-05-15\",\"2018-05-16\",\"2018-05-17\",\"2018-05-18\",\"2018-05-19\",\"2018-05-20\",\"2018-05-21\",\"2018-05-22\",\"2018-05-23\",\"2018-05-24\",\"2018-05-25\",\"2018-05-26\",\"2018-05-27\",\"2018-05-28\",\"2018-05-29\",\"2018-05-30\",\"2018-05-31\",\"2018-06-01\",\"2018-06-02\",\"2018-06-03\",\"2018-06-04\",\"2018-06-05\",\"2018-06-06\"],\"type\":\"ohlc\"}],                        {\"template\":{\"data\":{\"histogram2dcontour\":[{\"type\":\"histogram2dcontour\",\"colorbar\":{\"outlinewidth\":0,\"ticks\":\"\"},\"colorscale\":[[0.0,\"#0d0887\"],[0.1111111111111111,\"#46039f\"],[0.2222222222222222,\"#7201a8\"],[0.3333333333333333,\"#9c179e\"],[0.4444444444444444,\"#bd3786\"],[0.5555555555555556,\"#d8576b\"],[0.6666666666666666,\"#ed7953\"],[0.7777777777777778,\"#fb9f3a\"],[0.8888888888888888,\"#fdca26\"],[1.0,\"#f0f921\"]]}],\"choropleth\":[{\"type\":\"choropleth\",\"colorbar\":{\"outlinewidth\":0,\"ticks\":\"\"}}],\"histogram2d\":[{\"type\":\"histogram2d\",\"colorbar\":{\"outlinewidth\":0,\"ticks\":\"\"},\"colorscale\":[[0.0,\"#0d0887\"],[0.1111111111111111,\"#46039f\"],[0.2222222222222222,\"#7201a8\"],[0.3333333333333333,\"#9c179e\"],[0.4444444444444444,\"#bd3786\"],[0.5555555555555556,\"#d8576b\"],[0.6666666666666666,\"#ed7953\"],[0.7777777777777778,\"#fb9f3a\"],[0.8888888888888888,\"#fdca26\"],[1.0,\"#f0f921\"]]}],\"heatmap\":[{\"type\":\"heatmap\",\"colorbar\":{\"outlinewidth\":0,\"ticks\":\"\"},\"colorscale\":[[0.0,\"#0d0887\"],[0.1111111111111111,\"#46039f\"],[0.2222222222222222,\"#7201a8\"],[0.3333333333333333,\"#9c179e\"],[0.4444444444444444,\"#bd3786\"],[0.5555555555555556,\"#d8576b\"],[0.6666666666666666,\"#ed7953\"],[0.7777777777777778,\"#fb9f3a\"],[0.8888888888888888,\"#fdca26\"],[1.0,\"#f0f921\"]]}],\"heatmapgl\":[{\"type\":\"heatmapgl\",\"colorbar\":{\"outlinewidth\":0,\"ticks\":\"\"},\"colorscale\":[[0.0,\"#0d0887\"],[0.1111111111111111,\"#46039f\"],[0.2222222222222222,\"#7201a8\"],[0.3333333333333333,\"#9c179e\"],[0.4444444444444444,\"#bd3786\"],[0.5555555555555556,\"#d8576b\"],[0.6666666666666666,\"#ed7953\"],[0.7777777777777778,\"#fb9f3a\"],[0.8888888888888888,\"#fdca26\"],[1.0,\"#f0f921\"]]}],\"contourcarpet\":[{\"type\":\"contourcarpet\",\"colorbar\":{\"outlinewidth\":0,\"ticks\":\"\"}}],\"contour\":[{\"type\":\"contour\",\"colorbar\":{\"outlinewidth\":0,\"ticks\":\"\"},\"colorscale\":[[0.0,\"#0d0887\"],[0.1111111111111111,\"#46039f\"],[0.2222222222222222,\"#7201a8\"],[0.3333333333333333,\"#9c179e\"],[0.4444444444444444,\"#bd3786\"],[0.5555555555555556,\"#d8576b\"],[0.6666666666666666,\"#ed7953\"],[0.7777777777777778,\"#fb9f3a\"],[0.8888888888888888,\"#fdca26\"],[1.0,\"#f0f921\"]]}],\"surface\":[{\"type\":\"surface\",\"colorbar\":{\"outlinewidth\":0,\"ticks\":\"\"},\"colorscale\":[[0.0,\"#0d0887\"],[0.1111111111111111,\"#46039f\"],[0.2222222222222222,\"#7201a8\"],[0.3333333333333333,\"#9c179e\"],[0.4444444444444444,\"#bd3786\"],[0.5555555555555556,\"#d8576b\"],[0.6666666666666666,\"#ed7953\"],[0.7777777777777778,\"#fb9f3a\"],[0.8888888888888888,\"#fdca26\"],[1.0,\"#f0f921\"]]}],\"mesh3d\":[{\"type\":\"mesh3d\",\"colorbar\":{\"outlinewidth\":0,\"ticks\":\"\"}}],\"scatter\":[{\"marker\":{\"line\":{\"color\":\"#283442\"}},\"type\":\"scatter\"}],\"parcoords\":[{\"type\":\"parcoords\",\"line\":{\"colorbar\":{\"outlinewidth\":0,\"ticks\":\"\"}}}],\"scatterpolargl\":[{\"type\":\"scatterpolargl\",\"marker\":{\"colorbar\":{\"outlinewidth\":0,\"ticks\":\"\"}}}],\"bar\":[{\"error_x\":{\"color\":\"#f2f5fa\"},\"error_y\":{\"color\":\"#f2f5fa\"},\"marker\":{\"line\":{\"color\":\"rgb(17,17,17)\",\"width\":0.5},\"pattern\":{\"fillmode\":\"overlay\",\"size\":10,\"solidity\":0.2}},\"type\":\"bar\"}],\"scattergeo\":[{\"type\":\"scattergeo\",\"marker\":{\"colorbar\":{\"outlinewidth\":0,\"ticks\":\"\"}}}],\"scatterpolar\":[{\"type\":\"scatterpolar\",\"marker\":{\"colorbar\":{\"outlinewidth\":0,\"ticks\":\"\"}}}],\"histogram\":[{\"marker\":{\"pattern\":{\"fillmode\":\"overlay\",\"size\":10,\"solidity\":0.2}},\"type\":\"histogram\"}],\"scattergl\":[{\"marker\":{\"line\":{\"color\":\"#283442\"}},\"type\":\"scattergl\"}],\"scatter3d\":[{\"type\":\"scatter3d\",\"line\":{\"colorbar\":{\"outlinewidth\":0,\"ticks\":\"\"}},\"marker\":{\"colorbar\":{\"outlinewidth\":0,\"ticks\":\"\"}}}],\"scattermapbox\":[{\"type\":\"scattermapbox\",\"marker\":{\"colorbar\":{\"outlinewidth\":0,\"ticks\":\"\"}}}],\"scatterternary\":[{\"type\":\"scatterternary\",\"marker\":{\"colorbar\":{\"outlinewidth\":0,\"ticks\":\"\"}}}],\"scattercarpet\":[{\"type\":\"scattercarpet\",\"marker\":{\"colorbar\":{\"outlinewidth\":0,\"ticks\":\"\"}}}],\"carpet\":[{\"aaxis\":{\"endlinecolor\":\"#A2B1C6\",\"gridcolor\":\"#506784\",\"linecolor\":\"#506784\",\"minorgridcolor\":\"#506784\",\"startlinecolor\":\"#A2B1C6\"},\"baxis\":{\"endlinecolor\":\"#A2B1C6\",\"gridcolor\":\"#506784\",\"linecolor\":\"#506784\",\"minorgridcolor\":\"#506784\",\"startlinecolor\":\"#A2B1C6\"},\"type\":\"carpet\"}],\"table\":[{\"cells\":{\"fill\":{\"color\":\"#506784\"},\"line\":{\"color\":\"rgb(17,17,17)\"}},\"header\":{\"fill\":{\"color\":\"#2a3f5f\"},\"line\":{\"color\":\"rgb(17,17,17)\"}},\"type\":\"table\"}],\"barpolar\":[{\"marker\":{\"line\":{\"color\":\"rgb(17,17,17)\",\"width\":0.5},\"pattern\":{\"fillmode\":\"overlay\",\"size\":10,\"solidity\":0.2}},\"type\":\"barpolar\"}],\"pie\":[{\"automargin\":true,\"type\":\"pie\"}]},\"layout\":{\"autotypenumbers\":\"strict\",\"colorway\":[\"#636efa\",\"#EF553B\",\"#00cc96\",\"#ab63fa\",\"#FFA15A\",\"#19d3f3\",\"#FF6692\",\"#B6E880\",\"#FF97FF\",\"#FECB52\"],\"font\":{\"color\":\"#f2f5fa\"},\"hovermode\":\"closest\",\"hoverlabel\":{\"align\":\"left\"},\"paper_bgcolor\":\"rgb(17,17,17)\",\"plot_bgcolor\":\"rgb(17,17,17)\",\"polar\":{\"bgcolor\":\"rgb(17,17,17)\",\"angularaxis\":{\"gridcolor\":\"#506784\",\"linecolor\":\"#506784\",\"ticks\":\"\"},\"radialaxis\":{\"gridcolor\":\"#506784\",\"linecolor\":\"#506784\",\"ticks\":\"\"}},\"ternary\":{\"bgcolor\":\"rgb(17,17,17)\",\"aaxis\":{\"gridcolor\":\"#506784\",\"linecolor\":\"#506784\",\"ticks\":\"\"},\"baxis\":{\"gridcolor\":\"#506784\",\"linecolor\":\"#506784\",\"ticks\":\"\"},\"caxis\":{\"gridcolor\":\"#506784\",\"linecolor\":\"#506784\",\"ticks\":\"\"}},\"coloraxis\":{\"colorbar\":{\"outlinewidth\":0,\"ticks\":\"\"}},\"colorscale\":{\"sequential\":[[0.0,\"#0d0887\"],[0.1111111111111111,\"#46039f\"],[0.2222222222222222,\"#7201a8\"],[0.3333333333333333,\"#9c179e\"],[0.4444444444444444,\"#bd3786\"],[0.5555555555555556,\"#d8576b\"],[0.6666666666666666,\"#ed7953\"],[0.7777777777777778,\"#fb9f3a\"],[0.8888888888888888,\"#fdca26\"],[1.0,\"#f0f921\"]],\"sequentialminus\":[[0.0,\"#0d0887\"],[0.1111111111111111,\"#46039f\"],[0.2222222222222222,\"#7201a8\"],[0.3333333333333333,\"#9c179e\"],[0.4444444444444444,\"#bd3786\"],[0.5555555555555556,\"#d8576b\"],[0.6666666666666666,\"#ed7953\"],[0.7777777777777778,\"#fb9f3a\"],[0.8888888888888888,\"#fdca26\"],[1.0,\"#f0f921\"]],\"diverging\":[[0,\"#8e0152\"],[0.1,\"#c51b7d\"],[0.2,\"#de77ae\"],[0.3,\"#f1b6da\"],[0.4,\"#fde0ef\"],[0.5,\"#f7f7f7\"],[0.6,\"#e6f5d0\"],[0.7,\"#b8e186\"],[0.8,\"#7fbc41\"],[0.9,\"#4d9221\"],[1,\"#276419\"]]},\"xaxis\":{\"gridcolor\":\"#283442\",\"linecolor\":\"#506784\",\"ticks\":\"\",\"title\":{\"standoff\":15},\"zerolinecolor\":\"#283442\",\"automargin\":true,\"zerolinewidth\":2},\"yaxis\":{\"gridcolor\":\"#283442\",\"linecolor\":\"#506784\",\"ticks\":\"\",\"title\":{\"standoff\":15},\"zerolinecolor\":\"#283442\",\"automargin\":true,\"zerolinewidth\":2},\"scene\":{\"xaxis\":{\"backgroundcolor\":\"rgb(17,17,17)\",\"gridcolor\":\"#506784\",\"linecolor\":\"#506784\",\"showbackground\":true,\"ticks\":\"\",\"zerolinecolor\":\"#C8D4E3\",\"gridwidth\":2},\"yaxis\":{\"backgroundcolor\":\"rgb(17,17,17)\",\"gridcolor\":\"#506784\",\"linecolor\":\"#506784\",\"showbackground\":true,\"ticks\":\"\",\"zerolinecolor\":\"#C8D4E3\",\"gridwidth\":2},\"zaxis\":{\"backgroundcolor\":\"rgb(17,17,17)\",\"gridcolor\":\"#506784\",\"linecolor\":\"#506784\",\"showbackground\":true,\"ticks\":\"\",\"zerolinecolor\":\"#C8D4E3\",\"gridwidth\":2}},\"shapedefaults\":{\"line\":{\"color\":\"#f2f5fa\"}},\"annotationdefaults\":{\"arrowcolor\":\"#f2f5fa\",\"arrowhead\":0,\"arrowwidth\":1},\"geo\":{\"bgcolor\":\"rgb(17,17,17)\",\"landcolor\":\"rgb(17,17,17)\",\"subunitcolor\":\"#506784\",\"showland\":true,\"showlakes\":true,\"lakecolor\":\"rgb(17,17,17)\"},\"title\":{\"x\":0.05},\"updatemenudefaults\":{\"bgcolor\":\"#506784\",\"borderwidth\":0},\"sliderdefaults\":{\"bgcolor\":\"#C8D4E3\",\"borderwidth\":1,\"bordercolor\":\"rgb(17,17,17)\",\"tickwidth\":0},\"mapbox\":{\"style\":\"dark\"}}},\"autosize\":false,\"width\":800,\"height\":800},                        {\"responsive\": true}                    ).then(function(){\n                            \nvar gd = document.getElementById('3045de24-e01d-43bd-bb92-f9b9b0c76fbf');\nvar x = new MutationObserver(function (mutations, observer) {{\n        var display = window.getComputedStyle(gd).display;\n        if (!display || display === 'none') {{\n            console.log([gd, 'removed!']);\n            Plotly.purge(gd);\n            observer.disconnect();\n        }}\n}});\n\n// Listen for the removal of the full notebook cells\nvar notebookContainer = gd.closest('#notebook-container');\nif (notebookContainer) {{\n    x.observe(notebookContainer, {childList: true});\n}}\n\n// Listen for the clearing of the current output cell\nvar outputEl = gd.closest('.output');\nif (outputEl) {{\n    x.observe(outputEl, {childList: true});\n}}\n\n                        })                };                });            </script>        </div>"
     },
     "metadata": {},
     "output_type": "display_data"
    }
   ],
   "source": [
    "plot_fancy_price_action(coins=coins, symbol='VERI', start_date='2017-06-01', end_date='2019-06-30')"
   ]
  },
  {
   "cell_type": "markdown",
   "metadata": {
    "id": "cPzieShSL070"
   },
   "source": [
    "Никакого датасаенса в этом задании нет. Просто аналитик должен уметь строить графики, либо знать готовые инструменты."
   ]
  },
  {
   "cell_type": "markdown",
   "metadata": {
    "id": "8eizRenYL071"
   },
   "source": [
    "## 3. Накачка и сброс (1 балл)"
   ]
  },
  {
   "cell_type": "markdown",
   "source": [
    "Криптовалютные биржи до сих пор остаются маргинальным местом, эдаким диким западом финансового мира. Как следствие, здесь процветают схемы относительно\n",
    "честного отъема денег. Одна из них - **pump'n'dump** (накачка и сброс). \n",
    "\n",
    "Она выглядит следуюшим образом. Несколько крупных игроков или много мелких договариваются вместе купить малоизвестную монету с низкой ценой и объемом торгов. Это приводит к мгновенному взлету цены (pump), далее приходят неопытные игроки в надежде успеть заработать на таком росте. В этот момент организаторы схемы начнают все продавать (dump). Весь процесс занимает от нескольких минут до нескольких часов."
   ],
   "metadata": {
    "id": "WFgtlhMKNjtX"
   }
  },
  {
   "cell_type": "markdown",
   "source": [
    "Ваша задача -- **найти самый сильный pump'n'dump** монеты на заданном промежутке времени. Для этого для каждого дня определим число `pnd` равное отношению максимальной цены монеты в данный день к максимуму из цен открытия и закрытия в тот же день. Нужно найти день, когда `pnd` был максимален и величину `pnd`."
   ],
   "metadata": {
    "id": "EXsHpJmHNstO"
   }
  },
  {
   "cell_type": "code",
   "execution_count": 149,
   "metadata": {
    "id": "rzA20Gm6L072"
   },
   "outputs": [],
   "source": [
    "def find_most_severe_pump_and_dump(coins, symbol, start_date, end_date):\n",
    "    df = pd.DataFrame(coins)\n",
    "    df = df[(df['close'] != 0) & (df['open'] != 0) & (df['symbol'] == symbol) & (df['date'] >= start_date) & (df['date'] <= end_date)]\n",
    "    return max(max(df[\"high\"] / df[\"close\"]), max(df[\"high\"] / df[\"open\"]))"
   ]
  },
  {
   "cell_type": "code",
   "execution_count": 150,
   "metadata": {
    "id": "VZjM8FJ-L073"
   },
   "outputs": [
    {
     "data": {
      "text/plain": "1.2779033345228183"
     },
     "execution_count": 150,
     "metadata": {},
     "output_type": "execute_result"
    }
   ],
   "source": [
    "find_most_severe_pump_and_dump(coins, symbol='BTC', start_date='2017-06-01', end_date='2018-06-01')"
   ]
  },
  {
   "cell_type": "markdown",
   "metadata": {
    "id": "nos0kiTFL073"
   },
   "source": [
    "Сравните эти значения для разных монет:"
   ]
  },
  {
   "cell_type": "code",
   "execution_count": 151,
   "metadata": {
    "id": "EXJgxg7HL074"
   },
   "outputs": [
    {
     "name": "stdout",
     "output_type": "stream",
     "text": [
      "('AION', 2.679802955665025)\n",
      "('BTM', 7.824307189844705)\n",
      "('SRN', 2.3633608172501708)\n",
      "('BTC', 1.4172540174795603)\n",
      "('LRC', 5.960320253387295)\n",
      "('ZRX', 2.5064309688968445)\n",
      "('CVC', 2.10545071023046)\n",
      "('DCR', 2.062196307094266)\n",
      "('DOGE', 4.224390243902439)\n",
      "('USDT', 1.1862745098039216)\n",
      "('POLY', 1.6191709844559585)\n",
      "('GAS', 2.5554502369668244)\n",
      "('SNT', 2.1613467310452825)\n",
      "('BTG', 9.860204081632652)\n",
      "('MANA', 3.70996233277049)\n",
      "('GNO', 1.7436943620178043)\n",
      "('ICX', 1.8331943411394354)\n",
      "('XEM', 2.7943949489018793)\n",
      "('EOS', 2.8900544996041226)\n",
      "('NEO', 3.4440883989703166)\n",
      "('VTC', 2.8682209902294433)\n",
      "('ENG', 2.348993288590604)\n",
      "('OMG', 1.8651026392961878)\n",
      "('LSK', 12.445272938941384)\n",
      "('PAY', 66.41818181818182)\n",
      "('QASH', 1.7916514564050503)\n",
      "('VERI', 332514.7928994083)\n",
      "('AE', 3.392159762026946)\n",
      "('ADA', 2.6020226760952876)\n",
      "('VEN', 2.2615748504050974)\n",
      "('CENNZ', 1.5338419793705267)\n",
      "('TRX', 10.143168921868181)\n",
      "('ZEC', 3.8843950885428526)\n",
      "('ETHOS', 2.316378342392114)\n",
      "('REP', 2.2225705329153604)\n",
      "('WAVES', 2.197641198447)\n",
      "('DGB', 42.76487252124646)\n",
      "('XLM', 2.9105725226487347)\n",
      "('ETH', 3.7168552749477315)\n",
      "('POWR', 2.983256983742028)\n",
      "('GNT', 2.750113747373774)\n",
      "('ZIL', 1.6360098147051358)\n",
      "('ETC', 4.712792503187337)\n",
      "('KCS', 2.0162601626016263)\n",
      "('XVG', 8.799999999999999)\n",
      "('SALT', 1.9539170506912444)\n",
      "('ANT', 2.1296296296296298)\n",
      "('RHOC', 5.8726154816332965)\n",
      "('MTL', 1.8764705882352941)\n",
      "('DASH', 4.822784810126582)\n",
      "('NAS', 1.6534653465346534)\n",
      "('DRGN', 1.663860131905167)\n",
      "('BCH', 1.9795229876039542)\n",
      "('LOOM', 1.6009254572392067)\n",
      "('LTC', 2.394673123486683)\n",
      "('MAID', 1.7244782454899188)\n",
      "('ELF', 1.6566592178359614)\n",
      "('ICN', 24.26868646601555)\n",
      "('FUN', 17.627778357508088)\n",
      "('WTC', 2.989202736927165)\n",
      "('PIVX', 6.621247113163973)\n",
      "('BNB', 2.2870467947711832)\n",
      "('BAT', 2.1233281118207015)\n",
      "('CTXC', 1.3905325443786982)\n",
      "('KNC', 3.5684210526315794)\n",
      "('PPT', 3.9696048632218845)\n"
     ]
    }
   ],
   "source": [
    "res = {}\n",
    "for i in set(coins.symbol):\n",
    "    res[i] = find_most_severe_pump_and_dump(coins, symbol=i, start_date='2000-01-01', end_date='2020-01-01')\n",
    "print(*res.items(), sep='\\n')"
   ]
  },
  {
   "cell_type": "markdown",
   "source": [
    "#### Построим круговую диаграмму"
   ],
   "metadata": {
    "collapsed": false
   }
  },
  {
   "cell_type": "code",
   "execution_count": 152,
   "outputs": [
    {
     "data": {
      "text/plain": "<Figure size 640x480 with 1 Axes>",
      "image/png": "[encoded data removed]"
     },
     "metadata": {},
     "output_type": "display_data"
    }
   ],
   "source": [
    "plt.pie(res.values(), labels = res.keys())\n",
    "plt.show()"
   ],
   "metadata": {
    "collapsed": false
   }
  },
  {
   "cell_type": "markdown",
   "source": [
    "Отсюда видно, что монета VERI - является самым сильным pump’n’dump"
   ],
   "metadata": {
    "collapsed": false
   }
  },
  {
   "cell_type": "markdown",
   "metadata": {
    "id": "4I9QAGfGL074"
   },
   "source": [
    "## 4. Окупаемость инвестиций (1 балл)"
   ]
  },
  {
   "cell_type": "markdown",
   "metadata": {
    "id": "Ts7GdSZJL075"
   },
   "source": [
    "Вам нужно посчитать **окупаемость инвестиций (ROI)** в криптовалюты на заданном промежутке времени. \n",
    "\n",
    "Окупаемость определяется как отношение *изменения цены портфеля* к *исходной цене портфеля*. Цена портфеля - это суммарная стоимость (в USD) всех монет в портфеле.\n",
    "\n",
    "`investments` - словарь, в котором ключи - это названия монет, значения - это сумма вложений в эту монету (в USD)."
   ]
  },
  {
   "cell_type": "code",
   "execution_count": 153,
   "metadata": {
    "id": "RwDtgKjhL076"
   },
   "outputs": [],
   "source": [
    "def compute_roi(coins, investments, start_date, end_date):\n",
    "    delta = 0\n",
    "    start_cap = 0\n",
    "    df = pd.DataFrame(coins)\n",
    "    for k, v in investments.items():\n",
    "        start_cap += df.loc[(df['symbol'] == k) & (df['date'] == start_date), 'price'].sum() * v\n",
    "        delta += (df.loc[(df['symbol'] == k) & (df['date'] == end_date), 'price'].sum() -\n",
    "        df.loc[(df['symbol'] == k) & (df['date'] == start_date), 'price'].sum()) * v\n",
    "    return delta / start_cap\n"
   ]
  },
  {
   "cell_type": "code",
   "execution_count": 154,
   "metadata": {
    "id": "oWW8XBrIL076"
   },
   "outputs": [
    {
     "data": {
      "text/plain": "0.004831614576721981"
     },
     "execution_count": 154,
     "metadata": {},
     "output_type": "execute_result"
    }
   ],
   "source": [
    "compute_roi(coins, investments={'BTC': 1000, 'LTC': 500}, start_date='2018-04-04', end_date='2018-06-01')"
   ]
  },
  {
   "cell_type": "code",
   "execution_count": 155,
   "metadata": {
    "id": "UQDAuP_QL077"
   },
   "outputs": [
    {
     "data": {
      "text/plain": "57.53575236064575"
     },
     "execution_count": 155,
     "metadata": {},
     "output_type": "execute_result"
    }
   ],
   "source": [
    "compute_roi(coins, investments={'BTC': 1000, 'LTC': 500}, start_date='2013-05-28', end_date='2018-06-06')"
   ]
  },
  {
   "cell_type": "markdown",
   "metadata": {
    "id": "Xz7CvTFqL078"
   },
   "source": [
    "## 5. Технический анализ (1 балл)"
   ]
  },
  {
   "cell_type": "markdown",
   "metadata": {
    "id": "NFsh0yEqL078"
   },
   "source": [
    "**Технический анализ** - это способ предсказания поведения графика по некоторым вспомогательным величинам построенным по исходному графику. Один из простейших методов технического анализа - **[границы Боллинджера](https://en.wikipedia.org/wiki/Bollinger_Bands)**. Кто-то верит, что график касаясь границы от него должен отражаться.\n",
    "\n",
    "Границы считаются очень просто: \n",
    "\n",
    "$$(MA \\pm K\\sigma),$$\n",
    "\n",
    "где `MA` - скользящее среднее за `N` дней, а $\\sigma$ - скользящее стандартное отклонение за `N` дней."
   ]
  },
  {
   "cell_type": "markdown",
   "metadata": {
    "id": "Mo4GLdibL079"
   },
   "source": [
    "Нарисуйте **график цены**, **скользящее среднее** и **границы Боллинджера** c параметрами `N (window) = 21`, `K (width) = 2`.\n",
    "\n",
    "Тут вам поможет функция `rolling` для подсчёта среднего и стандартного отклонения по скользящему окну.\n",
    "\n",
    "Не забудьте подписать график и оси, отрисовать легенду и выбрать для нее лучшее расположение."
   ]
  },
  {
   "cell_type": "code",
   "execution_count": 156,
   "metadata": {
    "id": "zf4zMAGkL079"
   },
   "outputs": [],
   "source": [
    "def plot_bollinger_bands(coins, symbol, window, width):\n",
    "    df = pd.DataFrame(coins)\n",
    "    df['rolling'] = df.loc[df['symbol'] == symbol, 'price'].rolling(window).mean().shift(-3)\n",
    "    df['stand_deviation'] = df.loc[df['symbol'] == symbol, 'price'].rolling(window).std().shift(-3)\n",
    "    df['lower_bound'] = df.loc[df['symbol'] == symbol, 'rolling'] - width * df.loc[df['symbol'] == symbol, 'stand_deviation']\n",
    "    df['upper_bound'] = df.loc[df['symbol'] == symbol, 'rolling'] + width * df.loc[df['symbol'] == symbol, 'stand_deviation']\n",
    "    sns.set_style(\"darkgrid\")\n",
    "    sns.despine()\n",
    "    fig = plt.figure(figsize=(15,9))\n",
    "    plot = sns.lineplot(data=df.loc[df['symbol'] == symbol], x=\"date\", y='price', label=f'Зависимость стоимости {symbol} от времени')\n",
    "    sns.lineplot(data=df.loc[df['symbol'] == symbol], x=\"date\", y=\"rolling\", label=f\"Скользящее среднее за {window} дней\")\n",
    "    sns.lineplot(data=df.loc[df['symbol'] == symbol], x=\"date\", y=\"lower_bound\", label=\"Нижняя граница Боллинджера\")\n",
    "    plot3 = sns.lineplot(data=df.loc[df['symbol'] == symbol], x=\"date\", y=\"upper_bound\", label=\"Верхняя граница Боллинджера\")\n",
    "    line = plot3.get_lines()\n",
    "    plt.fill_between(line[1].get_xdata(), line[2].get_ydata(), line[3].get_ydata(), color='lightblue', alpha=.5)\n",
    "    plot.xaxis.set_major_locator(mpl.ticker.LinearLocator(8))\n",
    "    plt.title('Границы Боллинджера')"
   ]
  },
  {
   "cell_type": "code",
   "execution_count": 157,
   "metadata": {
    "id": "dWBsySLJL07-"
   },
   "outputs": [
    {
     "data": {
      "text/plain": "<Figure size 640x480 with 0 Axes>"
     },
     "metadata": {},
     "output_type": "display_data"
    },
    {
     "data": {
      "text/plain": "<Figure size 1500x900 with 1 Axes>",
      "image/png": "[encoded data removed]"
     },
     "metadata": {},
     "output_type": "display_data"
    }
   ],
   "source": [
    "plot_bollinger_bands(coins=coins, symbol='EOS', window=21, width=2)  # тут должен появиться график"
   ]
  },
  {
   "cell_type": "markdown",
   "metadata": {
    "id": "pJAYp_pUL07_"
   },
   "source": [
    "**Сделайте вывод о том, выполнялось ли правило Боллинджера:**"
   ]
  },
  {
   "cell_type": "markdown",
   "metadata": {
    "id": "k7NsxSsUL07_"
   },
   "source": [
    "**Ваш ответ тут**"
   ]
  },
  {
   "cell_type": "markdown",
   "source": [
    "Можно заметить, что при касании границы, прямая сразу разворачивается. Следовательно, правило выполняется"
   ],
   "metadata": {
    "collapsed": false
   }
  },
  {
   "cell_type": "markdown",
   "metadata": {
    "id": "41k4GlWGL08A"
   },
   "source": [
    "## 6. Капитализация как индикатор (1 балл)"
   ]
  },
  {
   "cell_type": "markdown",
   "metadata": {
    "id": "sONehy4zL08A"
   },
   "source": [
    "Многие люди, которые торгуют криптовалютой, любят смотреть на [капитализацию](https://academy.binance.com/ru/articles/crypto-market-capitalization-explained). Давайте поймём почему."
   ]
  },
  {
   "cell_type": "markdown",
   "metadata": {
    "id": "4spBUSr5L08B"
   },
   "source": [
    "**Нарисуйте еще два графика:**\n",
    "1. общая капитализация биткойна (BTC), эфира (ETH), еос (EOS), биткойн кэша (BCH), стеллара (XLM) и лайткойна (LTC)\n",
    "2. доли капитализаций этих монет от общей капитализации рынка. \n",
    "\n",
    "При этом используйте данные начиная с 2017-07-01."
   ]
  },
  {
   "cell_type": "code",
   "execution_count": 158,
   "outputs": [],
   "source": [
    "from datetime import datetime"
   ],
   "metadata": {
    "collapsed": false
   }
  },
  {
   "cell_type": "code",
   "execution_count": 159,
   "metadata": {
    "scrolled": false,
    "id": "xHMMSJg6L08B"
   },
   "outputs": [],
   "source": [
    "def plot_coins_capitalizations(coins, symbols, start_date):\n",
    "    df = pd.DataFrame(coins)\n",
    "    sns.set_style('darkgrid')\n",
    "\n",
    "    fig, axs = plt.subplots(3, 2)\n",
    "    plot1 = sns.lineplot(data=df.loc[(df['symbol'] == symbols[0]) & (df['date'] >= start_date)], x='date', y='market', ax=axs[0][0], label=symbols[0])\n",
    "    plot2 = sns.lineplot(data=df.loc[(df['symbol'] == symbols[1]) & (df['date'] >= start_date)], x='date', y='market', ax=axs[0][1], label=symbols[1])\n",
    "    plot3 = sns.lineplot(data=df.loc[(df['symbol'] == symbols[2]) & (df['date'] >= start_date)], x='date', y='market', ax=axs[1][0], label=symbols[2])\n",
    "    plot4 = sns.lineplot(data=df.loc[(df['symbol'] == symbols[3]) & (df['date'] >= start_date)], x='date', y='market', ax=axs[1][1], label=symbols[3])\n",
    "    plot5 = sns.lineplot(data=df.loc[(df['symbol'] == symbols[4]) & (df['date'] >= start_date)], x='date', y='market', ax=axs[2][0], label=symbols[4])\n",
    "    plot6 = sns.lineplot(data=df.loc[(df['symbol'] == symbols[5]) & (df['date'] >= start_date)], x='date', y='market', ax=axs[2][1], label=symbols[5])\n",
    "\n",
    "    plt.figure(figsize=(15,9))\n",
    "\n",
    "    plot1.xaxis.set_major_locator(mpl.ticker.LinearLocator(4))\n",
    "    plot2.xaxis.set_major_locator(mpl.ticker.LinearLocator(4))\n",
    "    plot3.xaxis.set_major_locator(mpl.ticker.LinearLocator(4))\n",
    "    plot4.xaxis.set_major_locator(mpl.ticker.LinearLocator(4))\n",
    "    plot5.xaxis.set_major_locator(mpl.ticker.LinearLocator(4))\n",
    "    plot6.xaxis.set_major_locator(mpl.ticker.LinearLocator(4))\n",
    "\n",
    "    df['new_col'] = df.loc[(df['symbol'] == symbols[0]), 'market'] + df.loc[(df['symbol'] == symbols[1]), 'market'] +\\\n",
    "                    df.loc[(df['symbol'] == symbols[2]), 'market'] + df.loc[(df['symbol'] == symbols[3]), 'market'] +\\\n",
    "                    df.loc[(df['symbol'] == symbols[4]), 'market'] + df.loc[(df['symbol'] == symbols[5]), 'market']\n",
    "\n",
    "    pl = sns.lineplot(data=df.loc[df['date'] >= start_date], x='date', y='market')\n",
    "    pl.xaxis.set_major_locator(mpl.ticker.LinearLocator(8))\n"
   ]
  },
  {
   "cell_type": "code",
   "execution_count": 160,
   "metadata": {
    "id": "jOD_z5hYL08C"
   },
   "outputs": [
    {
     "data": {
      "text/plain": "<Figure size 640x480 with 6 Axes>",
      "image/png": "[encoded data removed]"
     },
     "metadata": {},
     "output_type": "display_data"
    },
    {
     "data": {
      "text/plain": "<Figure size 1500x900 with 1 Axes>",
      "image/png": "[encoded data removed]"
     },
     "metadata": {},
     "output_type": "display_data"
    }
   ],
   "source": [
    "plot_coins_capitalizations(\n",
    "    coins=coins,\n",
    "    symbols=('BTC', 'ETH', 'EOS', 'BCH', 'XLM', 'LTC'),\n",
    "    start_date='2017-07-01'\n",
    ")"
   ]
  },
  {
   "cell_type": "markdown",
   "metadata": {
    "id": "A_qkmlioL08C"
   },
   "source": [
    "Проанализируйте зависимость доли капитализации альткойнов (остальных монет, кроме биткойна) от доли капитализации биткойна. Как выдумаете, в чём причина такой зависимости?"
   ]
  },
  {
   "cell_type": "markdown",
   "metadata": {
    "id": "RzJXy2cjL08D"
   },
   "source": [
    "**Ваш ответ тут**"
   ]
  },
  {
   "cell_type": "markdown",
   "metadata": {
    "id": "5TtUAu7PL08E"
   },
   "source": [
    "## 7. Корреляции монет (1 балл)"
   ]
  },
  {
   "cell_type": "markdown",
   "metadata": {
    "id": "ii_8rp4YL08E"
   },
   "source": [
    "Теперь нужно подробнее посмотреть на корреляции средних долей капитализаций монет. При этом будем смотреть на среднее сглаженное за последние `window` дней до дня `date` с коэффициентом сглаживания `alpha` для набора монет `symbols`.\n",
    "\n",
    "Реализуйте функцию, которая будет возвращать квадратный `DataFrame` с числом строк и столбцов, равным числу рассматриваемых монет и со значениями корреляций:"
   ]
  },
  {
   "cell_type": "code",
   "execution_count": 161,
   "metadata": {
    "id": "lxZQQuBxL08E"
   },
   "outputs": [
    {
     "ename": "SyntaxError",
     "evalue": "incomplete input (3410167829.py, line 2)",
     "output_type": "error",
     "traceback": [
      "\u001B[0;36m  Cell \u001B[0;32mIn [161], line 2\u001B[0;36m\u001B[0m\n\u001B[0;31m    # Paste your code here\u001B[0m\n\u001B[0m                          ^\u001B[0m\n\u001B[0;31mSyntaxError\u001B[0m\u001B[0;31m:\u001B[0m incomplete input\n"
     ]
    }
   ],
   "source": [
    "def calc_coins_correlations(coins, date, symbols, window, alpha):\n",
    "    # Paste your code here"
   ]
  },
  {
   "cell_type": "code",
   "execution_count": null,
   "metadata": {
    "id": "L8iBTKhuL08F"
   },
   "outputs": [],
   "source": [
    "correlations = calc_coins_correlations(coins, date=\"2018-06-06\",\n",
    "                                       symbols=['BTC', 'ETH', 'EOS', 'BCH', 'XLM', 'LTC', 'ADA'],\n",
    "                                       window=21, alpha=0.1)\n",
    "# Теперь посмотрим на эти корреляции следующим образом:\n",
    "correlations.style.background_gradient(cmap='coolwarm').set_precision(2)"
   ]
  },
  {
   "cell_type": "markdown",
   "metadata": {
    "id": "QbBg3mgjL08F"
   },
   "source": [
    "Довольно интересно ещё взглянуть на 2017-12-27:"
   ]
  },
  {
   "cell_type": "code",
   "execution_count": null,
   "metadata": {
    "id": "IJrYVdA0L08G"
   },
   "outputs": [],
   "source": [
    "correlations = calc_coins_correlations(coins, date=\"2017-12-27\",\n",
    "                                       symbols=['BTC', 'ETH', 'EOS', 'BCH', 'XLM', 'LTC', 'ADA'],\n",
    "                                       window=21, alpha=0.1)\n",
    "# Теперь посмотрим на эти корреляции следующим образом:\n",
    "correlations.style.background_gradient(cmap='coolwarm').set_precision(2)"
   ]
  },
  {
   "cell_type": "markdown",
   "metadata": {
    "id": "D4kyPV0CL08G"
   },
   "source": [
    "## 8. Анализ одной стратегии (2 балла)"
   ]
  },
  {
   "cell_type": "markdown",
   "metadata": {
    "id": "Y8rQ5WIML08H"
   },
   "source": [
    "Разберем один мечтательный пример. Посмотрим какую прибыль могла бы нам принести хрестоматийная торговая стратегия, основанная на скользящих средних.\n",
    "\n",
    "Стратегия выглядит следующим образом: мы строим две скользящие среднии для графика цены. С маленьким окном (ведущее скользящее среднее) и с бОльшим окном (запаздывающее скользящее среднее). **Мы покупаем, когда ведущее среднее становится больше запаздывающего, и продаем в противном случае.**\n",
    "\n",
    "Посмотрим на пример:"
   ]
  },
  {
   "cell_type": "code",
   "execution_count": null,
   "metadata": {
    "id": "gEPEQGSTL08H",
    "outputId": "d4bbd2f4-ba46-45d9-c930-35daf6ae0a48"
   },
   "outputs": [],
   "source": [
    "def plot_moving_averages(coins, symbol, leading_window, lagging_window, start_date, end_date):\n",
    "    coin = coins[coins['symbol'] == symbol][start_date:end_date]\n",
    "    price = coin['price']\n",
    "    leading_mean = price.rolling(window=leading_window).mean()\n",
    "    lagging_mean = price.rolling(window=lagging_window).mean()\n",
    "\n",
    "    fig = plt.figure(figsize=(16, 9))\n",
    "    ax = fig.add_subplot(111)\n",
    "    \n",
    "    ax.set_title('Price action for {}'.format(symbol))\n",
    "    ax.plot(leading_mean, color='green', label='MA{}'.format(leading_window))\n",
    "    ax.plot(lagging_mean, color='red', label='MA{}'.format(lagging_window))\n",
    "    ax.plot(price, color='blue', label='price')\n",
    "    ax.set_xlabel('Date')\n",
    "    ax.set_ylabel('Price')\n",
    "    ax.legend(loc='best')\n",
    "    ax.grid(True)\n",
    "    plt.show() \n",
    "\n",
    "plot_moving_averages(\n",
    "    coins=coins, \n",
    "    symbol='BTC', \n",
    "    leading_window=21, \n",
    "    lagging_window=50, \n",
    "    start_date='2017-05-01',\n",
    "    end_date='2018-08-01')"
   ]
  },
  {
   "cell_type": "markdown",
   "metadata": {
    "id": "pK6shsqJL08I"
   },
   "source": [
    "Видно, что скользящее среднее с бОльшим окном медленнее реагирует на изменение цены. Именно на этой идее и основана торговая стратегия.\n",
    "\n",
    "\n",
    "**Реализуйте функцию**, которая строит два графика. На правом будут изображены цена и скользящие средние. На левом - во сколько раз изменится размер вложений при использовании нашей стратегии и при обычном инвестировании (купили и держим, смотрим как растет цена наших купленных валют)."
   ]
  },
  {
   "cell_type": "markdown",
   "source": [
    ">**Примечания:**\n",
    ">- Давайте использовать только цены закрытия. При этом, чтобы узнать цены за вчерашний день, стоит использовать метод `shift(1)` у `Series`.\n",
    ">- Отношение цен закрытия за сегодня и за вчера - это **multiplier** за сегодняшний день. При этом давайте строить графики накопления для multiplier-ов. Т.е. если мы смотрим на 3 дня и в первый день multiplier = 1.5, во второй - 0.5 и в третий - 2, то график будет выглядеть так: (1.5, 1.5 * 0.5, 1.5 * 0.5 * 2).\n",
    ">- При использовании нашей новой стратегии мы будем либо покупать, если ведущее среднее становится больше запаздующего на некоторый `threshold` (при этом лучше разницу сперва поделить на цену), либо оставлять всё как есть. При этом, конечно, нужно, принимая решения за сегодняшний день, смотреть только на статистику из прошлого."
   ],
   "metadata": {
    "id": "AcdF_qkJQ2Xy"
   }
  },
  {
   "cell_type": "code",
   "execution_count": null,
   "metadata": {
    "scrolled": false,
    "id": "gp86AGWyL08I"
   },
   "outputs": [],
   "source": [
    "def plot_moving_averages_strategy(\n",
    "    coins, symbol, lead_window, lag_window, threshold, start_date, end_date\n",
    "):\n",
    "    # Paste your code here"
   ]
  },
  {
   "cell_type": "code",
   "execution_count": null,
   "metadata": {
    "id": "m2CDc_kkL08J"
   },
   "outputs": [],
   "source": [
    "# Теперь на основе реализованной функции сделаем интерактивные графики и поизучаем, что получилось:\n",
    "symbol_selector = ipywidgets.Dropdown(\n",
    "    options=('BTC', 'ETH', 'EOS', 'BCH', 'XLM', 'LTC', 'ADA'),\n",
    "    index=0,\n",
    "    value='BTC',\n",
    "    layout={'width': '700px'},\n",
    "    continuous_update=False\n",
    ")\n",
    "\n",
    "lead_window_slider = ipywidgets.IntSlider(\n",
    "    value=21, \n",
    "    min=1, \n",
    "    max=200, \n",
    "    step=1,\n",
    "    layout={'width': '700px'},\n",
    "    continuous_update=False)\n",
    "\n",
    "lag_window_slider = ipywidgets.IntSlider(\n",
    "    value=50,\n",
    "    min=1, \n",
    "    max=200, \n",
    "    layout={'width': '700px'},\n",
    "    step=1, continuous_update=False)\n",
    "\n",
    "threshold_slider = ipywidgets.FloatSlider(\n",
    "    min=0, \n",
    "    max=0.20, \n",
    "    step=0.001, \n",
    "    value=0.025,\n",
    "    layout={'width': '700px'},\n",
    "    continuous_update=False)\n",
    "\n",
    "start_date_slider = ipywidgets.SelectionSlider(\n",
    "    options=pd.date_range('2013-04-28', '2018-06-06', freq='D'),\n",
    "    index=0,\n",
    "    value=pd.Timestamp('2017-05-01'),\n",
    "    layout={'width': '700px'},\n",
    "    continuous_update=False\n",
    ")\n",
    "\n",
    "end_date_slider = ipywidgets.SelectionSlider(\n",
    "    options=pd.date_range('2013-04-28', '2018-06-06', freq='D'),\n",
    "    index=0,\n",
    "    value=pd.Timestamp('2018-01-01'),\n",
    "    layout={'width': '700px'},\n",
    "    continuous_update=False\n",
    ")\n",
    "\n",
    "ipywidgets.interact(\n",
    "    plot_moving_averages_strategy,\n",
    "    coins=ipywidgets.fixed(coins),\n",
    "    symbol=symbol_selector,\n",
    "    lead_window=lead_window_slider,\n",
    "    lag_window=lag_window_slider,\n",
    "    threshold=threshold_slider,\n",
    "    start_date=start_date_slider,\n",
    "    end_date=end_date_slider\n",
    ")"
   ]
  },
  {
   "cell_type": "markdown",
   "metadata": {
    "id": "M0nDeThDL08K"
   },
   "source": [
    "Попробуйте разные значения параметров для разных монет и сделайте выводы о применимости такой модели:"
   ]
  },
  {
   "cell_type": "markdown",
   "metadata": {
    "id": "48-ixm47L08K"
   },
   "source": [
    "**Ваш ответ тут**"
   ]
  },
  {
   "cell_type": "markdown",
   "metadata": {
    "id": "ln30vuzhL08L"
   },
   "source": [
    "## 9. Отказ от ответственности "
   ]
  },
  {
   "cell_type": "markdown",
   "source": [
    "Все примеры разобранных здесь стратегий являются игрушечными и не подходят для реальной торговли на бирже. Без серьезной подготовки вас там съедят с потрохами."
   ],
   "metadata": {
    "id": "TJsrHxbTT7ZH"
   }
  }
 ],
 "metadata": {
  "kernelspec": {
   "display_name": "Python 3",
   "language": "python",
   "name": "python3"
  },
  "language_info": {
   "codemirror_mode": {
    "name": "ipython",
    "version": 3
   },
   "file_extension": ".py",
   "mimetype": "text/x-python",
   "name": "python",
   "nbconvert_exporter": "python",
   "pygments_lexer": "ipython3",
   "version": "3.8.5"
  },
  "colab": {
   "provenance": []
  }
 },
 "nbformat": 4,
 "nbformat_minor": 0
}
