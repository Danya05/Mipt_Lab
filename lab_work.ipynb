{
 "cells": [
  {
   "cell_type": "markdown",
   "metadata": {
    "id": "2LDjNwV-L07C"
   },
   "source": [
    "# Аналитика данных с помощью `pandas` и `matplotlib`"
   ]
  },
  {
   "cell_type": "markdown",
   "source": [
    "В этом задании вам предлагается выполнить анализ данных криптовалют с помощью библиотек pandas и matplotlib.\n",
    "Задание выглядит как лабораторная работа, в которой вам предстоит заполнить недостающие клетки и ответить на ряд вопросов.\n",
    " - [Официальная документация pandas](https://pandas.pydata.org/)\n",
    " - [Официальная документация matplotlib](https://matplotlib.org/index.html)"
   ],
   "metadata": {
    "id": "yahCEf27L8Xz"
   }
  },
  {
   "cell_type": "markdown",
   "source": [
    "> **Напоминание**\n",
    ">\n",
    ">Минимальные баллы для получения зачёта по этой работе - **1 балл**. Если вы не набираете тут 1 балл, то по всему курсу вы получаете неуд (см. слайды с вводной презентации)."
   ],
   "metadata": {
    "id": "nER0dTZGMCPM"
   }
  },
  {
   "cell_type": "markdown",
   "metadata": {
    "id": "dWNu1zPiL07Q"
   },
   "source": [
    "## 1. Данные (2 балла)"
   ]
  },
  {
   "cell_type": "markdown",
   "source": [
    "Скачиваем данные для работы:"
   ],
   "metadata": {
    "id": "Nh7axXM5MrlX"
   }
  },
  {
   "cell_type": "code",
   "execution_count": null,
   "outputs": [],
   "source": [
    "%%bash\n",
    "gdown 1e-Q_15W7ExExQarKqgjrtoO-LHi9oJs3"
   ],
   "metadata": {
    "collapsed": false
   }
  },
  {
   "cell_type": "markdown",
   "metadata": {
    "id": "rxz0pXGIL07S"
   },
   "source": [
    "Начнем с необходимых приготовлений."
   ]
  },
  {
   "cell_type": "code",
   "execution_count": null,
   "metadata": {
    "id": "-G3lHlpmL07T"
   },
   "outputs": [],
   "source": [
    "import numpy as np\n",
    "import pandas as pd\n",
    "import matplotlib as mpl  \n",
    "import matplotlib.pyplot as plt\n",
    "import ipywidgets  # Библиотека для интерактивных контролов в jupyter notebook'е\n",
    "!pip install seaborn\n",
    "import seaborn as sns\n",
    "\n",
    "%matplotlib inline"
   ]
  },
  {
   "cell_type": "markdown",
   "metadata": {
    "id": "syVncWO5L07X"
   },
   "source": [
    "#### Загрузите заранее подготовленный датасет из файла *\"coins.csv\"*. Создайте объект типа `pandas.DataFrame` с именем `coins` и в качестве индекса выберите колонку с датой."
   ]
  },
  {
   "cell_type": "code",
   "execution_count": null,
   "metadata": {
    "id": "3a-dnCG0L07Z"
   },
   "outputs": [],
   "source": [
    "coins = pd.read_csv(\"coins.csv\")"
   ]
  },
  {
   "cell_type": "markdown",
   "metadata": {
    "id": "XYauvggmL07a"
   },
   "source": [
    "Посмотрим что получилось"
   ]
  },
  {
   "cell_type": "code",
   "execution_count": null,
   "metadata": {
    "id": "l4uGAbw2L07e",
    "outputId": "584542e8-5232-4192-d706-9bdace902161"
   },
   "outputs": [],
   "source": [
    "coins.head(4)"
   ]
  },
  {
   "cell_type": "code",
   "execution_count": null,
   "outputs": [],
   "source": [
    "coins.describe()"
   ],
   "metadata": {
    "collapsed": false
   }
  },
  {
   "cell_type": "markdown",
   "metadata": {
    "id": "KVwDhn2bL07i"
   },
   "source": [
    "Поясним значения хранящиеся в колонках\n",
    " - date - дата измерений\n",
    " - name - полное название монеты\n",
    " - symbol - сокращенное название монеты\n",
    " - price - средняя цена монеты за торговый день в USD\n",
    " - txCount - количество транзакций в сети данной монеты\n",
    " - txVolume - объем монет переведенных между адресами в сети данной монеты\n",
    " - activeAddresses - количество адресов совершавших а данный день транзации в сети данной монеты\n",
    " - open - цена монеты в начале торгов данного дня\n",
    " - close - цена монеты в конце торгов данного дня\n",
    " - high - самая высокая цена данной монеты в течение данного торгового дня\n",
    " - low - самая низкая цена данной монеты в течение данного торгового дня\n",
    " - volume - объем торгов данной монетой на биржах в данный день\n",
    " - market - капитализация данной монеты в данный день"
   ]
  },
  {
   "cell_type": "markdown",
   "source": [
    "Изучим полученные данные. Ответьте на следующие вопросы (вставляйте клетки с кодом и тектом ниже):"
   ],
   "metadata": {
    "id": "_q8b6IndNKmV"
   }
  },
  {
   "cell_type": "markdown",
   "metadata": {
    "id": "7ud0R7PcL07k"
   },
   "source": [
    "### 1. Сколько всего различных монет представлено в датасете? (0.4 балла)"
   ]
  },
  {
   "cell_type": "code",
   "execution_count": null,
   "metadata": {
    "id": "oN2d3V71L07m"
   },
   "outputs": [],
   "source": [
    "f'Всего различных монет в датасете --> {len(set(coins.name))}'"
   ]
  },
  {
   "cell_type": "markdown",
   "metadata": {
    "id": "TDffn2rLL07n"
   },
   "source": [
    "### 2. За какой период данные мы имеем? (0.4 балла)"
   ]
  },
  {
   "cell_type": "code",
   "execution_count": null,
   "metadata": {
    "id": "7Ucmnjv1L07p"
   },
   "outputs": [],
   "source": [
    "f'Данные представлены с {min(coins.date)} по {max(coins.date)}'"
   ]
  },
  {
   "cell_type": "markdown",
   "metadata": {
    "id": "XFHJsy_5L07p"
   },
   "source": [
    "### 3. Есть ли пропуски в данных? Какой природы эти пропуски, чем они скорее всего вызваны? (0.5 балла)"
   ]
  },
  {
   "cell_type": "code",
   "execution_count": null,
   "metadata": {
    "id": "D-nOmmFjL07r"
   },
   "outputs": [],
   "source": [
    "coins.isna().sum()"
   ]
  },
  {
   "cell_type": "markdown",
   "source": [
    "Видно, что пропуски в колонках - price, txCount, txVolume, activeAddresses. Пропуски - значение nan"
   ],
   "metadata": {
    "collapsed": false
   }
  },
  {
   "cell_type": "markdown",
   "metadata": {
    "id": "Da-aXu_hL07s"
   },
   "source": [
    "### 4. У какой монеты и когда была самая высокая цена? (0.2 балла)"
   ]
  },
  {
   "cell_type": "code",
   "execution_count": null,
   "metadata": {
    "id": "-D50115vL07t"
   },
   "outputs": [],
   "source": [
    "name = coins[coins['price'] == coins['price'].max()]['name'].values[0]\n",
    "date = coins[coins['price'] == coins['price'].max()]['date'].values[0]\n",
    "print(f'Наибольшая цена была у {name} -- {date}')"
   ]
  },
  {
   "cell_type": "markdown",
   "metadata": {
    "id": "3F9UdmukL07u"
   },
   "source": [
    "### 5. У какой монеты самая высокая и самая низкая суммарная капитализация? Постройте круговую диаграмму с долями. (0.5 балла)"
   ]
  },
  {
   "cell_type": "code",
   "execution_count": null,
   "outputs": [],
   "source": [
    "df = pd.DataFrame(coins)\n",
    "data = {}\n",
    "for i in set(coins['name']):\n",
    "    data[i] = df.loc[df['name'] == i, 'market'].sum()\n",
    "min_c = [i for i in data if data[i] == min(data.values())][0]\n",
    "max_c = [i for i in data if data[i] == max(data.values())][0]\n",
    "print(f'Максимальная суммарная капитализация у {min_c} и составляет -- {min(data.values())}')\n",
    "print(f'Минимальная суммарная капитализация у {max_c} и составляет -- {max(data.values())}')"
   ],
   "metadata": {
    "collapsed": false
   }
  },
  {
   "cell_type": "code",
   "execution_count": null,
   "outputs": [],
   "source": [
    "plt.pie(data.values(), labels = data.keys())\n",
    "plt.show()"
   ],
   "metadata": {
    "collapsed": false
   }
  },
  {
   "cell_type": "markdown",
   "metadata": {
    "id": "Q2uOSfUsL07w"
   },
   "source": [
    "## 2. Визуализация (1 балл)"
   ]
  },
  {
   "cell_type": "markdown",
   "metadata": {
    "id": "uwjJ-L7tL07w"
   },
   "source": [
    "Самая интересная часть работы аналитика состоит во внимательном вглядывании в правильно выбранные и построенные графики."
   ]
  },
  {
   "cell_type": "markdown",
   "source": [
    "**Реализуйте функцию для визуализации цен выбранной валюты за выбранный диапазон дат.**"
   ],
   "metadata": {
    "id": "mtUf5gGiNa6z"
   }
  },
  {
   "cell_type": "markdown",
   "metadata": {
    "id": "9qevVDaEL07x"
   },
   "source": [
    "На графике должны быть видны цены начала и конца продаж. А так же минимальная и максимальная цена за этот день.\n",
    "Подпишите график и оси координат. Добавьте сетку. Увеличьте размер изображения.\n",
    "Можете попробовать использовать `matplotlib.finance.candlestick_ohlc` (`mpl_finance.candlestick_ohlc`), но можно и без него."
   ]
  },
  {
   "cell_type": "code",
   "execution_count": null,
   "outputs": [],
   "source": [
    "!pip install plotly\n",
    "import plotly.graph_objects as go\n"
   ],
   "metadata": {
    "collapsed": false
   }
  },
  {
   "cell_type": "code",
   "execution_count": null,
   "metadata": {
    "scrolled": false,
    "id": "mR_RvLetL07y"
   },
   "outputs": [],
   "source": [
    "def plot_fancy_price_action(coins, symbol, start_date, end_date):\n",
    "    coins = coins[(coins.date >= start_date) & (coins.date <= end_date) & (coins.symbol == symbol)]\n",
    "\n",
    "    fig = go.Figure(\n",
    "        data=go.Ohlc(\n",
    "            x=coins.date,\n",
    "            open=coins[\"open\"],\n",
    "            high=coins[\"high\"],\n",
    "            low=coins[\"low\"],\n",
    "            close=coins[\"close\"],\n",
    "        )\n",
    "    )\n",
    "    fig.update_layout(\n",
    "        autosize=False,\n",
    "        width=800,\n",
    "        height=800,)\n",
    "    fig.show()"
   ]
  },
  {
   "cell_type": "markdown",
   "metadata": {
    "id": "C1F_4oSmL07z"
   },
   "source": [
    "Посмотрим, что получилось:"
   ]
  },
  {
   "cell_type": "code",
   "execution_count": null,
   "metadata": {
    "id": "VIF6IvysL070"
   },
   "outputs": [],
   "source": [
    "plot_fancy_price_action(coins=coins, symbol='VERI', start_date='2017-06-01', end_date='2019-06-30')"
   ]
  },
  {
   "cell_type": "markdown",
   "metadata": {
    "id": "cPzieShSL070"
   },
   "source": [
    "Никакого датасаенса в этом задании нет. Просто аналитик должен уметь строить графики, либо знать готовые инструменты."
   ]
  },
  {
   "cell_type": "markdown",
   "metadata": {
    "id": "8eizRenYL071"
   },
   "source": [
    "## 3. Накачка и сброс (1 балл)"
   ]
  },
  {
   "cell_type": "markdown",
   "source": [
    "Криптовалютные биржи до сих пор остаются маргинальным местом, эдаким диким западом финансового мира. Как следствие, здесь процветают схемы относительно\n",
    "честного отъема денег. Одна из них - **pump'n'dump** (накачка и сброс). \n",
    "\n",
    "Она выглядит следуюшим образом. Несколько крупных игроков или много мелких договариваются вместе купить малоизвестную монету с низкой ценой и объемом торгов. Это приводит к мгновенному взлету цены (pump), далее приходят неопытные игроки в надежде успеть заработать на таком росте. В этот момент организаторы схемы начнают все продавать (dump). Весь процесс занимает от нескольких минут до нескольких часов."
   ],
   "metadata": {
    "id": "WFgtlhMKNjtX"
   }
  },
  {
   "cell_type": "markdown",
   "source": [
    "Ваша задача -- **найти самый сильный pump'n'dump** монеты на заданном промежутке времени. Для этого для каждого дня определим число `pnd` равное отношению максимальной цены монеты в данный день к максимуму из цен открытия и закрытия в тот же день. Нужно найти день, когда `pnd` был максимален и величину `pnd`."
   ],
   "metadata": {
    "id": "EXsHpJmHNstO"
   }
  },
  {
   "cell_type": "code",
   "execution_count": null,
   "metadata": {
    "id": "rzA20Gm6L072"
   },
   "outputs": [],
   "source": [
    "def find_most_severe_pump_and_dump(coins, symbol, start_date, end_date):\n",
    "    df = pd.DataFrame(coins)\n",
    "    df = df[(df['close'] != 0) & (df['open'] != 0) & (df['symbol'] == symbol) & (df['date'] >= start_date) & (df['date'] <= end_date)]\n",
    "    return max(max(df[\"high\"] / df[\"close\"]), max(df[\"high\"] / df[\"open\"]))"
   ]
  },
  {
   "cell_type": "code",
   "execution_count": null,
   "metadata": {
    "id": "VZjM8FJ-L073"
   },
   "outputs": [],
   "source": [
    "find_most_severe_pump_and_dump(coins, symbol='BTC', start_date='2017-06-01', end_date='2018-06-01')"
   ]
  },
  {
   "cell_type": "markdown",
   "metadata": {
    "id": "nos0kiTFL073"
   },
   "source": [
    "Сравните эти значения для разных монет:"
   ]
  },
  {
   "cell_type": "code",
   "execution_count": null,
   "metadata": {
    "id": "EXJgxg7HL074"
   },
   "outputs": [],
   "source": [
    "res = {}\n",
    "for i in set(coins.symbol):\n",
    "    res[i] = find_most_severe_pump_and_dump(coins, symbol=i, start_date='2000-01-01', end_date='2020-01-01')\n",
    "print(*res.items(), sep='\\n')"
   ]
  },
  {
   "cell_type": "markdown",
   "source": [
    "#### Построим круговую диаграмму"
   ],
   "metadata": {
    "collapsed": false
   }
  },
  {
   "cell_type": "code",
   "execution_count": null,
   "outputs": [],
   "source": [
    "plt.pie(res.values(), labels = res.keys())\n",
    "plt.show()"
   ],
   "metadata": {
    "collapsed": false
   }
  },
  {
   "cell_type": "markdown",
   "source": [
    "Отсюда видно, что монета VERI - является самым сильным pump’n’dump"
   ],
   "metadata": {
    "collapsed": false
   }
  },
  {
   "cell_type": "markdown",
   "metadata": {
    "id": "4I9QAGfGL074"
   },
   "source": [
    "## 4. Окупаемость инвестиций (1 балл)"
   ]
  },
  {
   "cell_type": "markdown",
   "metadata": {
    "id": "Ts7GdSZJL075"
   },
   "source": [
    "Вам нужно посчитать **окупаемость инвестиций (ROI)** в криптовалюты на заданном промежутке времени. \n",
    "\n",
    "Окупаемость определяется как отношение *изменения цены портфеля* к *исходной цене портфеля*. Цена портфеля - это суммарная стоимость (в USD) всех монет в портфеле.\n",
    "\n",
    "`investments` - словарь, в котором ключи - это названия монет, значения - это сумма вложений в эту монету (в USD)."
   ]
  },
  {
   "cell_type": "code",
   "execution_count": null,
   "metadata": {
    "id": "RwDtgKjhL076"
   },
   "outputs": [],
   "source": [
    "def compute_roi(coins, investments, start_date, end_date):\n",
    "    delta = 0\n",
    "    start_cap = 0\n",
    "    df = pd.DataFrame(coins)\n",
    "    for k, v in investments.items():\n",
    "        start_cap += df.loc[(df['symbol'] == k) & (df['date'] == start_date), 'price'].sum() * v\n",
    "        delta += (df.loc[(df['symbol'] == k) & (df['date'] == end_date), 'price'].sum() -\n",
    "        df.loc[(df['symbol'] == k) & (df['date'] == start_date), 'price'].sum()) * v\n",
    "    return delta / start_cap\n"
   ]
  },
  {
   "cell_type": "code",
   "execution_count": null,
   "metadata": {
    "id": "oWW8XBrIL076"
   },
   "outputs": [],
   "source": [
    "compute_roi(coins, investments={'BTC': 1000, 'LTC': 500}, start_date='2018-04-04', end_date='2018-06-01')"
   ]
  },
  {
   "cell_type": "code",
   "execution_count": null,
   "metadata": {
    "id": "UQDAuP_QL077"
   },
   "outputs": [],
   "source": [
    "compute_roi(coins, investments={'BTC': 1000, 'LTC': 500}, start_date='2013-05-28', end_date='2018-06-06')"
   ]
  },
  {
   "cell_type": "markdown",
   "metadata": {
    "id": "Xz7CvTFqL078"
   },
   "source": [
    "## 5. Технический анализ (1 балл)"
   ]
  },
  {
   "cell_type": "markdown",
   "metadata": {
    "id": "NFsh0yEqL078"
   },
   "source": [
    "**Технический анализ** - это способ предсказания поведения графика по некоторым вспомогательным величинам построенным по исходному графику. Один из простейших методов технического анализа - **[границы Боллинджера](https://en.wikipedia.org/wiki/Bollinger_Bands)**. Кто-то верит, что график касаясь границы от него должен отражаться.\n",
    "\n",
    "Границы считаются очень просто: \n",
    "\n",
    "$$(MA \\pm K\\sigma),$$\n",
    "\n",
    "где `MA` - скользящее среднее за `N` дней, а $\\sigma$ - скользящее стандартное отклонение за `N` дней."
   ]
  },
  {
   "cell_type": "markdown",
   "metadata": {
    "id": "Mo4GLdibL079"
   },
   "source": [
    "Нарисуйте **график цены**, **скользящее среднее** и **границы Боллинджера** c параметрами `N (window) = 21`, `K (width) = 2`.\n",
    "\n",
    "Тут вам поможет функция `rolling` для подсчёта среднего и стандартного отклонения по скользящему окну.\n",
    "\n",
    "Не забудьте подписать график и оси, отрисовать легенду и выбрать для нее лучшее расположение."
   ]
  },
  {
   "cell_type": "code",
   "execution_count": null,
   "metadata": {
    "id": "zf4zMAGkL079"
   },
   "outputs": [],
   "source": [
    "def plot_bollinger_bands(coins, symbol, window, width):\n",
    "    df = pd.DataFrame(coins)\n",
    "    df['rolling'] = df.loc[df['symbol'] == symbol, 'price'].rolling(window).mean().shift(-3)\n",
    "    df['stand_deviation'] = df.loc[df['symbol'] == symbol, 'price'].rolling(window).std().shift(-3)\n",
    "    df['lower_bound'] = df.loc[df['symbol'] == symbol, 'rolling'] - width * df.loc[df['symbol'] == symbol, 'stand_deviation']\n",
    "    df['upper_bound'] = df.loc[df['symbol'] == symbol, 'rolling'] + width * df.loc[df['symbol'] == symbol, 'stand_deviation']\n",
    "    sns.set_style(\"darkgrid\")\n",
    "    sns.despine()\n",
    "    fig = plt.figure(figsize=(15,9))\n",
    "    plot = sns.lineplot(data=df.loc[df['symbol'] == symbol], x=\"date\", y='price', label=f'Зависимость стоимости {symbol} от времени')\n",
    "    sns.lineplot(data=df.loc[df['symbol'] == symbol], x=\"date\", y=\"rolling\", label=f\"Скользящее среднее за {window} дней\")\n",
    "    sns.lineplot(data=df.loc[df['symbol'] == symbol], x=\"date\", y=\"lower_bound\", label=\"Нижняя граница Боллинджера\")\n",
    "    plot3 = sns.lineplot(data=df.loc[df['symbol'] == symbol], x=\"date\", y=\"upper_bound\", label=\"Верхняя граница Боллинджера\")\n",
    "    line = plot3.get_lines()\n",
    "    plt.fill_between(line[1].get_xdata(), line[2].get_ydata(), line[3].get_ydata(), color='lightblue', alpha=.5)\n",
    "    plot.xaxis.set_major_locator(mpl.ticker.LinearLocator(8))\n",
    "    plt.title('Границы Боллинджера')"
   ]
  },
  {
   "cell_type": "code",
   "execution_count": null,
   "metadata": {
    "id": "dWBsySLJL07-"
   },
   "outputs": [],
   "source": [
    "plot_bollinger_bands(coins=coins, symbol='EOS', window=21, width=2)  # тут должен появиться график"
   ]
  },
  {
   "cell_type": "markdown",
   "metadata": {
    "id": "pJAYp_pUL07_"
   },
   "source": [
    "**Сделайте вывод о том, выполнялось ли правило Боллинджера:**"
   ]
  },
  {
   "cell_type": "markdown",
   "metadata": {
    "id": "k7NsxSsUL07_"
   },
   "source": [
    "**Ваш ответ тут**"
   ]
  },
  {
   "cell_type": "markdown",
   "source": [
    "Можно заметить, что при касании границы, прямая сразу разворачивается. Следовательно, правило выполняется"
   ],
   "metadata": {
    "collapsed": false
   }
  },
  {
   "cell_type": "markdown",
   "metadata": {
    "id": "41k4GlWGL08A"
   },
   "source": [
    "## 6. Капитализация как индикатор (1 балл)"
   ]
  },
  {
   "cell_type": "markdown",
   "metadata": {
    "id": "sONehy4zL08A"
   },
   "source": [
    "Многие люди, которые торгуют криптовалютой, любят смотреть на [капитализацию](https://academy.binance.com/ru/articles/crypto-market-capitalization-explained). Давайте поймём почему."
   ]
  },
  {
   "cell_type": "markdown",
   "metadata": {
    "id": "4spBUSr5L08B"
   },
   "source": [
    "**Нарисуйте еще два графика:**\n",
    "1. общая капитализация биткойна (BTC), эфира (ETH), еос (EOS), биткойн кэша (BCH), стеллара (XLM) и лайткойна (LTC)\n",
    "2. доли капитализаций этих монет от общей капитализации рынка. \n",
    "\n",
    "При этом используйте данные начиная с 2017-07-01."
   ]
  },
  {
   "cell_type": "code",
   "execution_count": null,
   "outputs": [],
   "source": [
    "from datetime import datetime"
   ],
   "metadata": {
    "collapsed": false
   }
  },
  {
   "cell_type": "code",
   "execution_count": null,
   "metadata": {
    "scrolled": false,
    "id": "xHMMSJg6L08B"
   },
   "outputs": [],
   "source": [
    "def plot_coins_capitalizations(coins, symbols, start_date):\n",
    "    df = pd.DataFrame(coins)\n",
    "    sns.set_style('darkgrid')\n",
    "\n",
    "    fig, axs = plt.subplots(3, 2)\n",
    "    plot1 = sns.lineplot(data=df.loc[(df['symbol'] == symbols[0]) & (df['date'] >= start_date)], x='date', y='market', ax=axs[0][0], label=symbols[0])\n",
    "    plot2 = sns.lineplot(data=df.loc[(df['symbol'] == symbols[1]) & (df['date'] >= start_date)], x='date', y='market', ax=axs[0][1], label=symbols[1])\n",
    "    plot3 = sns.lineplot(data=df.loc[(df['symbol'] == symbols[2]) & (df['date'] >= start_date)], x='date', y='market', ax=axs[1][0], label=symbols[2])\n",
    "    plot4 = sns.lineplot(data=df.loc[(df['symbol'] == symbols[3]) & (df['date'] >= start_date)], x='date', y='market', ax=axs[1][1], label=symbols[3])\n",
    "    plot5 = sns.lineplot(data=df.loc[(df['symbol'] == symbols[4]) & (df['date'] >= start_date)], x='date', y='market', ax=axs[2][0], label=symbols[4])\n",
    "    plot6 = sns.lineplot(data=df.loc[(df['symbol'] == symbols[5]) & (df['date'] >= start_date)], x='date', y='market', ax=axs[2][1], label=symbols[5])\n",
    "\n",
    "    plt.figure(figsize=(15,9))\n",
    "\n",
    "    plot1.xaxis.set_major_locator(mpl.ticker.LinearLocator(4))\n",
    "    plot2.xaxis.set_major_locator(mpl.ticker.LinearLocator(4))\n",
    "    plot3.xaxis.set_major_locator(mpl.ticker.LinearLocator(4))\n",
    "    plot4.xaxis.set_major_locator(mpl.ticker.LinearLocator(4))\n",
    "    plot5.xaxis.set_major_locator(mpl.ticker.LinearLocator(4))\n",
    "    plot6.xaxis.set_major_locator(mpl.ticker.LinearLocator(4))\n",
    "\n",
    "    df['new_col'] = df.loc[(df['symbol'] == symbols[0]), 'market'] + df.loc[(df['symbol'] == symbols[1]), 'market'] +\\\n",
    "                    df.loc[(df['symbol'] == symbols[2]), 'market'] + df.loc[(df['symbol'] == symbols[3]), 'market'] +\\\n",
    "                    df.loc[(df['symbol'] == symbols[4]), 'market'] + df.loc[(df['symbol'] == symbols[5]), 'market']\n",
    "\n",
    "    pl = sns.lineplot(data=df.loc[df['date'] >= start_date], x='date', y='market')\n",
    "    pl.xaxis.set_major_locator(mpl.ticker.LinearLocator(8))\n"
   ]
  },
  {
   "cell_type": "code",
   "execution_count": null,
   "metadata": {
    "id": "jOD_z5hYL08C"
   },
   "outputs": [],
   "source": [
    "plot_coins_capitalizations(\n",
    "    coins=coins,\n",
    "    symbols=('BTC', 'ETH', 'EOS', 'BCH', 'XLM', 'LTC'),\n",
    "    start_date='2017-07-01'\n",
    ")"
   ]
  },
  {
   "cell_type": "markdown",
   "metadata": {
    "id": "A_qkmlioL08C"
   },
   "source": [
    "Проанализируйте зависимость доли капитализации альткойнов (остальных монет, кроме биткойна) от доли капитализации биткойна. Как выдумаете, в чём причина такой зависимости?"
   ]
  },
  {
   "cell_type": "markdown",
   "metadata": {
    "id": "RzJXy2cjL08D"
   },
   "source": [
    "**Ваш ответ тут**"
   ]
  },
  {
   "cell_type": "markdown",
   "metadata": {
    "id": "5TtUAu7PL08E"
   },
   "source": [
    "## 7. Корреляции монет (1 балл)"
   ]
  },
  {
   "cell_type": "markdown",
   "metadata": {
    "id": "ii_8rp4YL08E"
   },
   "source": [
    "Теперь нужно подробнее посмотреть на корреляции средних долей капитализаций монет. При этом будем смотреть на среднее сглаженное за последние `window` дней до дня `date` с коэффициентом сглаживания `alpha` для набора монет `symbols`.\n",
    "\n",
    "Реализуйте функцию, которая будет возвращать квадратный `DataFrame` с числом строк и столбцов, равным числу рассматриваемых монет и со значениями корреляций:"
   ]
  },
  {
   "cell_type": "code",
   "execution_count": null,
   "metadata": {
    "id": "lxZQQuBxL08E"
   },
   "outputs": [],
   "source": [
    "def calc_coins_correlations(coins, date, symbols, window, alpha):\n",
    "    # Paste your code here"
   ]
  },
  {
   "cell_type": "code",
   "execution_count": null,
   "metadata": {
    "id": "L8iBTKhuL08F"
   },
   "outputs": [],
   "source": [
    "correlations = calc_coins_correlations(coins, date=\"2018-06-06\",\n",
    "                                       symbols=['BTC', 'ETH', 'EOS', 'BCH', 'XLM', 'LTC', 'ADA'],\n",
    "                                       window=21, alpha=0.1)\n",
    "# Теперь посмотрим на эти корреляции следующим образом:\n",
    "correlations.style.background_gradient(cmap='coolwarm').set_precision(2)"
   ]
  },
  {
   "cell_type": "markdown",
   "metadata": {
    "id": "QbBg3mgjL08F"
   },
   "source": [
    "Довольно интересно ещё взглянуть на 2017-12-27:"
   ]
  },
  {
   "cell_type": "code",
   "execution_count": null,
   "metadata": {
    "id": "IJrYVdA0L08G"
   },
   "outputs": [],
   "source": [
    "correlations = calc_coins_correlations(coins, date=\"2017-12-27\",\n",
    "                                       symbols=['BTC', 'ETH', 'EOS', 'BCH', 'XLM', 'LTC', 'ADA'],\n",
    "                                       window=21, alpha=0.1)\n",
    "# Теперь посмотрим на эти корреляции следующим образом:\n",
    "correlations.style.background_gradient(cmap='coolwarm').set_precision(2)"
   ]
  },
  {
   "cell_type": "markdown",
   "metadata": {
    "id": "D4kyPV0CL08G"
   },
   "source": [
    "## 8. Анализ одной стратегии (2 балла)"
   ]
  },
  {
   "cell_type": "markdown",
   "metadata": {
    "id": "Y8rQ5WIML08H"
   },
   "source": [
    "Разберем один мечтательный пример. Посмотрим какую прибыль могла бы нам принести хрестоматийная торговая стратегия, основанная на скользящих средних.\n",
    "\n",
    "Стратегия выглядит следующим образом: мы строим две скользящие среднии для графика цены. С маленьким окном (ведущее скользящее среднее) и с бОльшим окном (запаздывающее скользящее среднее). **Мы покупаем, когда ведущее среднее становится больше запаздывающего, и продаем в противном случае.**\n",
    "\n",
    "Посмотрим на пример:"
   ]
  },
  {
   "cell_type": "code",
   "execution_count": null,
   "metadata": {
    "id": "gEPEQGSTL08H",
    "outputId": "d4bbd2f4-ba46-45d9-c930-35daf6ae0a48"
   },
   "outputs": [],
   "source": [
    "def plot_moving_averages(coins, symbol, leading_window, lagging_window, start_date, end_date):\n",
    "    coin = coins[coins['symbol'] == symbol][start_date:end_date]\n",
    "    price = coin['price']\n",
    "    leading_mean = price.rolling(window=leading_window).mean()\n",
    "    lagging_mean = price.rolling(window=lagging_window).mean()\n",
    "\n",
    "    fig = plt.figure(figsize=(16, 9))\n",
    "    ax = fig.add_subplot(111)\n",
    "    \n",
    "    ax.set_title('Price action for {}'.format(symbol))\n",
    "    ax.plot(leading_mean, color='green', label='MA{}'.format(leading_window))\n",
    "    ax.plot(lagging_mean, color='red', label='MA{}'.format(lagging_window))\n",
    "    ax.plot(price, color='blue', label='price')\n",
    "    ax.set_xlabel('Date')\n",
    "    ax.set_ylabel('Price')\n",
    "    ax.legend(loc='best')\n",
    "    ax.grid(True)\n",
    "    plt.show() \n",
    "\n",
    "plot_moving_averages(\n",
    "    coins=coins, \n",
    "    symbol='BTC', \n",
    "    leading_window=21, \n",
    "    lagging_window=50, \n",
    "    start_date='2017-05-01',\n",
    "    end_date='2018-08-01')"
   ]
  },
  {
   "cell_type": "markdown",
   "metadata": {
    "id": "pK6shsqJL08I"
   },
   "source": [
    "Видно, что скользящее среднее с бОльшим окном медленнее реагирует на изменение цены. Именно на этой идее и основана торговая стратегия.\n",
    "\n",
    "\n",
    "**Реализуйте функцию**, которая строит два графика. На правом будут изображены цена и скользящие средние. На левом - во сколько раз изменится размер вложений при использовании нашей стратегии и при обычном инвестировании (купили и держим, смотрим как растет цена наших купленных валют)."
   ]
  },
  {
   "cell_type": "markdown",
   "source": [
    ">**Примечания:**\n",
    ">- Давайте использовать только цены закрытия. При этом, чтобы узнать цены за вчерашний день, стоит использовать метод `shift(1)` у `Series`.\n",
    ">- Отношение цен закрытия за сегодня и за вчера - это **multiplier** за сегодняшний день. При этом давайте строить графики накопления для multiplier-ов. Т.е. если мы смотрим на 3 дня и в первый день multiplier = 1.5, во второй - 0.5 и в третий - 2, то график будет выглядеть так: (1.5, 1.5 * 0.5, 1.5 * 0.5 * 2).\n",
    ">- При использовании нашей новой стратегии мы будем либо покупать, если ведущее среднее становится больше запаздующего на некоторый `threshold` (при этом лучше разницу сперва поделить на цену), либо оставлять всё как есть. При этом, конечно, нужно, принимая решения за сегодняшний день, смотреть только на статистику из прошлого."
   ],
   "metadata": {
    "id": "AcdF_qkJQ2Xy"
   }
  },
  {
   "cell_type": "code",
   "execution_count": null,
   "metadata": {
    "scrolled": false,
    "id": "gp86AGWyL08I"
   },
   "outputs": [],
   "source": [
    "def plot_moving_averages_strategy(\n",
    "    coins, symbol, lead_window, lag_window, threshold, start_date, end_date\n",
    "):\n",
    "    # Paste your code here"
   ]
  },
  {
   "cell_type": "code",
   "execution_count": null,
   "metadata": {
    "id": "m2CDc_kkL08J"
   },
   "outputs": [],
   "source": [
    "# Теперь на основе реализованной функции сделаем интерактивные графики и поизучаем, что получилось:\n",
    "symbol_selector = ipywidgets.Dropdown(\n",
    "    options=('BTC', 'ETH', 'EOS', 'BCH', 'XLM', 'LTC', 'ADA'),\n",
    "    index=0,\n",
    "    value='BTC',\n",
    "    layout={'width': '700px'},\n",
    "    continuous_update=False\n",
    ")\n",
    "\n",
    "lead_window_slider = ipywidgets.IntSlider(\n",
    "    value=21, \n",
    "    min=1, \n",
    "    max=200, \n",
    "    step=1,\n",
    "    layout={'width': '700px'},\n",
    "    continuous_update=False)\n",
    "\n",
    "lag_window_slider = ipywidgets.IntSlider(\n",
    "    value=50,\n",
    "    min=1, \n",
    "    max=200, \n",
    "    layout={'width': '700px'},\n",
    "    step=1, continuous_update=False)\n",
    "\n",
    "threshold_slider = ipywidgets.FloatSlider(\n",
    "    min=0, \n",
    "    max=0.20, \n",
    "    step=0.001, \n",
    "    value=0.025,\n",
    "    layout={'width': '700px'},\n",
    "    continuous_update=False)\n",
    "\n",
    "start_date_slider = ipywidgets.SelectionSlider(\n",
    "    options=pd.date_range('2013-04-28', '2018-06-06', freq='D'),\n",
    "    index=0,\n",
    "    value=pd.Timestamp('2017-05-01'),\n",
    "    layout={'width': '700px'},\n",
    "    continuous_update=False\n",
    ")\n",
    "\n",
    "end_date_slider = ipywidgets.SelectionSlider(\n",
    "    options=pd.date_range('2013-04-28', '2018-06-06', freq='D'),\n",
    "    index=0,\n",
    "    value=pd.Timestamp('2018-01-01'),\n",
    "    layout={'width': '700px'},\n",
    "    continuous_update=False\n",
    ")\n",
    "\n",
    "ipywidgets.interact(\n",
    "    plot_moving_averages_strategy,\n",
    "    coins=ipywidgets.fixed(coins),\n",
    "    symbol=symbol_selector,\n",
    "    lead_window=lead_window_slider,\n",
    "    lag_window=lag_window_slider,\n",
    "    threshold=threshold_slider,\n",
    "    start_date=start_date_slider,\n",
    "    end_date=end_date_slider\n",
    ")"
   ]
  },
  {
   "cell_type": "markdown",
   "metadata": {
    "id": "M0nDeThDL08K"
   },
   "source": [
    "Попробуйте разные значения параметров для разных монет и сделайте выводы о применимости такой модели:"
   ]
  },
  {
   "cell_type": "markdown",
   "metadata": {
    "id": "48-ixm47L08K"
   },
   "source": [
    "**Ваш ответ тут**"
   ]
  },
  {
   "cell_type": "markdown",
   "metadata": {
    "id": "ln30vuzhL08L"
   },
   "source": [
    "## 9. Отказ от ответственности "
   ]
  },
  {
   "cell_type": "markdown",
   "source": [
    "Все примеры разобранных здесь стратегий являются игрушечными и не подходят для реальной торговли на бирже. Без серьезной подготовки вас там съедят с потрохами."
   ],
   "metadata": {
    "id": "TJsrHxbTT7ZH"
   }
  }
 ],
 "metadata": {
  "kernelspec": {
   "display_name": "Python 3",
   "language": "python",
   "name": "python3"
  },
  "language_info": {
   "codemirror_mode": {
    "name": "ipython",
    "version": 3
   },
   "file_extension": ".py",
   "mimetype": "text/x-python",
   "name": "python",
   "nbconvert_exporter": "python",
   "pygments_lexer": "ipython3",
   "version": "3.8.5"
  },
  "colab": {
   "provenance": []
  }
 },
 "nbformat": 4,
 "nbformat_minor": 0
}
